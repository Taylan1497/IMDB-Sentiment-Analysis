{
 "cells": [
  {
   "cell_type": "markdown",
   "id": "2bf6bf3e",
   "metadata": {},
   "source": [
    "# IMDB Sentiment Analysis with Logistic Regression, k-Nearest Neighbor and Support Vector Machine Model "
   ]
  },
  {
   "cell_type": "markdown",
   "id": "890cb3dd",
   "metadata": {},
   "source": [
    "In this project, first the dataset of the Internet Movie Database (IMDb) movie reviews will be studied on. Dataset contains huge number of reviews (approximately 50000) those are both positive and negative reviews. The negative reviews have a score lower than rating point 4 out of 10, and positive reviews have a score higher than 7. The main goal of the project is to classify whether a review is positive or negative with using at least two different architecture from the following set: Suppor Vector Machine, Logistic Regression and Naive Bayes.\n",
    "\n",
    "#### Dataset to be used :\n",
    "\n",
    "https://www.kaggle.com/code/lakshmi25npathi/sentiment-analysis-of-imdb-movie-reviews/data\n",
    "\n",
    "#### References \n",
    "\n",
    "Dey, L., Chakraborty, S., Biswas, A., Bose, B., and Tiwari, S. (2016). Sentiment analysis of\n",
    "review datasets using na ̈ıve bayes‘ and k-nn classifier. International Journal of Information\n",
    "Engineering and Electronic Business, 8:54–62.\n",
    "\n",
    "Ramadhan, N. G. and Ramadhan, T. I. (2022). Analysis sentiment based on imdb aspects from\n",
    "movie reviews using svm. Sinkron : jurnal dan penelitian teknik informatika, 7(1):39–45.\n",
    "Ramadhan and Ramadhan (2022) Dey et al. (2016)\n",
    "1\n",
    "\n",
    "**Note: Other references of code and analysis will be given within the implemaentaition**"
   ]
  },
  {
   "cell_type": "markdown",
   "id": "935d6b23",
   "metadata": {},
   "source": [
    "### OUTLINE ###\n",
    "\n",
    "#### PART 1\n",
    "\n",
    " * Part 1 contains data pre-process.\n",
    " * It will show how and why we prepare data for the model implemantaion.\n",
    "\n",
    "#### PART 2 \n",
    " \n",
    " * Part 2 contains model implementations using Scikit Learn library and a little work for KNN parameter optmization.\n",
    "\n",
    "#### PART 3 \n",
    "\n",
    " * Part 3 contains model implementations and results with Dimensionality Reduction Tecniques and Hyperparameter Optimization\n",
    " \n",
    "#### PART 4 \n",
    "\n",
    " * Part 4 contains hand-coded model implementations to the data prepared with Dimensionality Reduction and the results."
   ]
  },
  {
   "cell_type": "markdown",
   "id": "426a6a52",
   "metadata": {},
   "source": [
    "### PART 1: Data Pre-Process\n",
    "\n",
    "* Data preprocessing is important to see what kind of data we have to deal with and for preparing those data to be implemented into the models. Our data is a text-based data\n",
    "\n",
    "* The first part of data pre-process aims at reducing the complexity by manipulating our text-based data, which enables to increase its generalization capabilities and so accuracy.\n",
    "\n",
    "* Main steps of text manipulations are Contractions Expansion, Removing HTML Tags, Lower Case Conversion, Removing Stopwords, Removing Numbers, Removing Frequent Words, Word Tokenization, Lemmatization, Removing Punctuation.\n",
    "\n",
    "* The other part of the data preprocess contains the vectorization."
   ]
  },
  {
   "cell_type": "code",
   "execution_count": 1,
   "id": "3e22f581",
   "metadata": {},
   "outputs": [],
   "source": [
    "import numpy as np\n",
    "import matplotlib.pyplot as plt\n",
    "import seaborn as sns\n",
    "import pandas as pd"
   ]
  },
  {
   "cell_type": "code",
   "execution_count": 2,
   "id": "7f2a8302",
   "metadata": {},
   "outputs": [
    {
     "data": {
      "text/html": [
       "<div>\n",
       "<style scoped>\n",
       "    .dataframe tbody tr th:only-of-type {\n",
       "        vertical-align: middle;\n",
       "    }\n",
       "\n",
       "    .dataframe tbody tr th {\n",
       "        vertical-align: top;\n",
       "    }\n",
       "\n",
       "    .dataframe thead th {\n",
       "        text-align: right;\n",
       "    }\n",
       "</style>\n",
       "<table border=\"1\" class=\"dataframe\">\n",
       "  <thead>\n",
       "    <tr style=\"text-align: right;\">\n",
       "      <th></th>\n",
       "      <th>review</th>\n",
       "      <th>sentiment</th>\n",
       "    </tr>\n",
       "  </thead>\n",
       "  <tbody>\n",
       "    <tr>\n",
       "      <th>0</th>\n",
       "      <td>One of the other reviewers has mentioned that ...</td>\n",
       "      <td>1</td>\n",
       "    </tr>\n",
       "    <tr>\n",
       "      <th>1</th>\n",
       "      <td>A wonderful little production. &lt;br /&gt;&lt;br /&gt;The...</td>\n",
       "      <td>1</td>\n",
       "    </tr>\n",
       "    <tr>\n",
       "      <th>2</th>\n",
       "      <td>I thought this was a wonderful way to spend ti...</td>\n",
       "      <td>1</td>\n",
       "    </tr>\n",
       "    <tr>\n",
       "      <th>3</th>\n",
       "      <td>Basically there's a family where a little boy ...</td>\n",
       "      <td>0</td>\n",
       "    </tr>\n",
       "    <tr>\n",
       "      <th>4</th>\n",
       "      <td>Petter Mattei's \"Love in the Time of Money\" is...</td>\n",
       "      <td>1</td>\n",
       "    </tr>\n",
       "  </tbody>\n",
       "</table>\n",
       "</div>"
      ],
      "text/plain": [
       "                                              review  sentiment\n",
       "0  One of the other reviewers has mentioned that ...          1\n",
       "1  A wonderful little production. <br /><br />The...          1\n",
       "2  I thought this was a wonderful way to spend ti...          1\n",
       "3  Basically there's a family where a little boy ...          0\n",
       "4  Petter Mattei's \"Love in the Time of Money\" is...          1"
      ]
     },
     "execution_count": 2,
     "metadata": {},
     "output_type": "execute_result"
    }
   ],
   "source": [
    "data = pd.read_csv(\"IMDB Dataset.csv\")\n",
    "data[\"sentiment\"]=data[\"sentiment\"].map({\"positive\":1,\"negative\":0})\n",
    "data.head()"
   ]
  },
  {
   "cell_type": "code",
   "execution_count": 3,
   "id": "7d2b52f0",
   "metadata": {},
   "outputs": [
    {
     "name": "stdout",
     "output_type": "stream",
     "text": [
      "<class 'pandas.core.frame.DataFrame'>\n",
      "RangeIndex: 50000 entries, 0 to 49999\n",
      "Data columns (total 2 columns):\n",
      " #   Column     Non-Null Count  Dtype \n",
      "---  ------     --------------  ----- \n",
      " 0   review     50000 non-null  object\n",
      " 1   sentiment  50000 non-null  int64 \n",
      "dtypes: int64(1), object(1)\n",
      "memory usage: 781.4+ KB\n"
     ]
    }
   ],
   "source": [
    "#data.shape, data.dtypes,data.isnull().any()\n",
    "data.info()"
   ]
  },
  {
   "cell_type": "markdown",
   "id": "72ec46a0",
   "metadata": {},
   "source": [
    "The column ‘review’ contains 50,000 non-null entries with a datatype object. The column ‘sentiment’ has 50,000 non-null entries with a datatype int64."
   ]
  },
  {
   "cell_type": "markdown",
   "id": "939c6bcb",
   "metadata": {},
   "source": [
    "The ‘sentiment’ column contains class sentiment for each review. If it is 0, then it is a negative review. If the it is 1, then it is a positive review. Lets see the number of occurrences of each and plot.\n",
    "\n"
   ]
  },
  {
   "cell_type": "code",
   "execution_count": 4,
   "id": "dc110311",
   "metadata": {},
   "outputs": [
    {
     "data": {
      "text/plain": [
       "0    25000\n",
       "1    25000\n",
       "Name: sentiment, dtype: int64"
      ]
     },
     "execution_count": 4,
     "metadata": {},
     "output_type": "execute_result"
    },
    {
     "data": {
      "image/png": "[encoded data removed]",
      "text/plain": [
       "<Figure size 432x288 with 1 Axes>"
      ]
     },
     "metadata": {
      "needs_background": "light"
     },
     "output_type": "display_data"
    }
   ],
   "source": [
    "data.sentiment.value_counts().plot(kind=\"bar\")\n",
    "data.sentiment.value_counts()"
   ]
  },
  {
   "cell_type": "markdown",
   "id": "55ffb83f",
   "metadata": {},
   "source": [
    "### Text Manipulation\n",
    "Text preprocessing is an important part of any problem as we have, Natural Language Problems. I create many function for text manipulation to reduce complexity as said above.The operations are explained below:\n",
    "\n",
    "* **Contractions Expansion:** This operation changes some contracted word to the open form. Such as: \"aren't\" → 'are not'. This is required for the other operations going well.\n",
    "* **Removing HTML Tags:** This removes HTML tags like < div >< /div > and < br/ > from the text.\n",
    "* **Word Tokenization:** This turns the large text into separate tokens, basically single words.\n",
    "* **Lower Case Conversion:** This changes all the upper case characters into lower case. Upper and lower case shouldnt make any difference for our model, “A” and “a” should be same thing for our model.\n",
    "* **Removing Numbers:** This removes all the numbers in the text. Numbers do not play a significant role for the analysis of movie reviews.\n",
    "* **Removing Stopwords:** This removes english language stopwords like ‘me’, ‘our’, ‘where’, ‘what’.. etc. from the text.\n",
    "* **Removing Frequent Words:** This removes the most frequently occurring words in data, because frequent words don’t provide any significant difference among the inputs, like the word “movie”.\n",
    "* **Lemmatization:** This enables using the base forms of words. For example, “writing” → “write” and “cats” → “cat”.\n",
    "* **Removing Punctuation:** This removes all the punctuation like !”\\’(), from the text."
   ]
  },
  {
   "cell_type": "code",
   "execution_count": 5,
   "id": "c25a5b14",
   "metadata": {},
   "outputs": [
    {
     "data": {
      "text/plain": [
       "'One of the other reviewers has mentioned that after watching just 1 Oz episode you will be hooked. They are right, as this is exactly what happened with me.<br /><br />The first thing that struck me about Oz was its brutality and unflinching scenes of violence, which set in right from the word GO. Trust me, this is not a show for the faint hearted or timid. This show pulls no punches with regards to drugs, sex or violence. Its is hardcore, in the classic use of the word.<br /><br />It is called OZ as that is the nickname given to the Oswald Maximum Security State Penitentary. It focuses mainly on Emerald City, an experimental section of the prison where all the cells have glass fronts and face inwards, so privacy is not high on the agenda. Em City is home to many..Aryans, Muslims, gangstas, Latinos, Christians, Italians, Irish and more....so scuffles, death stares, dodgy dealings and shady agreements are never far away.<br /><br />I would say the main appeal of the show is due to the fact that it goes where other shows would not dare. Forget pretty pictures painted for mainstream audiences, forget charm, forget romance...OZ does not mess around. The first episode I ever saw struck me as so nasty it was surreal, I could not say I was ready for it, but as I watched more, I developed a taste for Oz, and got accustomed to the high levels of graphic violence. Not just violence, but injustice (crooked guards whofll be sold out for a nickel, inmates whofll kill on order and get away with it, well mannered, middle class inmates being turned into prison bitches due to their lack of street skills or prison experience) Watching Oz, you may become comfortable with what is uncomfortable viewing....thats if you can get in touch with your darker side.'"
      ]
     },
     "execution_count": 5,
     "metadata": {},
     "output_type": "execute_result"
    }
   ],
   "source": [
    "# Contractions Expansion\n",
    "import contractions\n",
    "contractions_dict = contractions.contractions_dict\n",
    "#contractions_dict\n",
    "def contraction_expansion(x):\n",
    "    if type(x) is str:\n",
    "        for key in contractions_dict:\n",
    "            value = contractions_dict[key]\n",
    "            x = x.replace(key, value)\n",
    "        return x\n",
    "    else:\n",
    "        return x\n",
    "data[\"review\"]=data[\"review\"].apply(lambda x : contraction_expansion(x))\n",
    "data.iloc[0][\"review\"]"
   ]
  },
  {
   "cell_type": "code",
   "execution_count": 6,
   "id": "3392c5d7",
   "metadata": {},
   "outputs": [],
   "source": [
    "#Remove html tags\n",
    "import re\n",
    "def remove_html(element):\n",
    "    html_removed = re.sub(re.compile('<.*?>'),'',element)\n",
    "    return html_removed\n",
    "data[\"review\"]=data[\"review\"].apply(lambda x : remove_html(x))\n",
    "#data.iloc[0][\"review\"]"
   ]
  },
  {
   "cell_type": "code",
   "execution_count": 7,
   "id": "692f0919",
   "metadata": {},
   "outputs": [],
   "source": [
    "#Remove Punctuation\n",
    "from string import punctuation\n",
    "def remove_punct(element):\n",
    "    element_without_punct = [i for i in element if not i in punctuation]\n",
    "    element_without_punct=''.join(element_without_punct)\n",
    "    return element_without_punct\n",
    "data[\"review\"]=data[\"review\"].apply(lambda x:remove_punct(x))"
   ]
  },
  {
   "cell_type": "code",
   "execution_count": 8,
   "id": "d0addd62",
   "metadata": {},
   "outputs": [
    {
     "name": "stderr",
     "output_type": "stream",
     "text": [
      "[nltk_data] Downloading package punkt to /home/taylan/nltk_data...\n",
      "[nltk_data]   Package punkt is already up-to-date!\n"
     ]
    }
   ],
   "source": [
    "#Tokenize\n",
    "import nltk\n",
    "nltk.download('punkt')\n",
    "from nltk import word_tokenize\n",
    "data[\"review\"]=data[\"review\"].apply(word_tokenize)"
   ]
  },
  {
   "cell_type": "code",
   "execution_count": 9,
   "id": "ebb3d9e9",
   "metadata": {},
   "outputs": [],
   "source": [
    "# Lower Case Transformation\n",
    "def lower_case(element):\n",
    "    lower_case_element = element.lower()\n",
    "    return lower_case_element\n",
    "data[\"review\"]=data[\"review\"].apply(lambda x : [lower_case(i) for i in x])\n",
    "#data.iloc[0][\"review\"]"
   ]
  },
  {
   "cell_type": "code",
   "execution_count": 10,
   "id": "692b27b7",
   "metadata": {},
   "outputs": [],
   "source": [
    "# Removing Numbers\n",
    "def number_remove(element):\n",
    "    element_without_numbers = [i for i in element if not i.isdigit()]\n",
    "    #Yes_number = element.isdigit() # if it it is a number, it returns True\n",
    "    return element_without_numbers\n",
    "data[\"review\"]=data[\"review\"].apply(lambda x:number_remove(x))\n",
    "#data.iloc[0][\"review\"]"
   ]
  },
  {
   "cell_type": "code",
   "execution_count": 11,
   "id": "120abbea",
   "metadata": {},
   "outputs": [],
   "source": [
    "# Remove Stopwords\n",
    "from nltk.corpus import stopwords\n",
    "stops=stopwords.words(\"english\")\n",
    "def remove_stop(element):\n",
    "    element_without_stop =[i for i in element if i not in stops]\n",
    "    return element_without_stop\n",
    "data[\"review\"]=data[\"review\"].apply(lambda x:remove_stop(x))"
   ]
  },
  {
   "cell_type": "code",
   "execution_count": 12,
   "id": "459d0ebc",
   "metadata": {},
   "outputs": [
    {
     "data": {
      "text/plain": [
       "['one',\n",
       " 'reviewers',\n",
       " 'mentioned',\n",
       " 'watching',\n",
       " 'oz',\n",
       " 'episode',\n",
       " 'hooked',\n",
       " 'right',\n",
       " 'exactly',\n",
       " 'happened',\n",
       " 'methe',\n",
       " 'first',\n",
       " 'thing',\n",
       " 'struck',\n",
       " 'oz',\n",
       " 'brutality',\n",
       " 'unflinching',\n",
       " 'scenes',\n",
       " 'violence',\n",
       " 'set',\n",
       " 'right',\n",
       " 'word',\n",
       " 'go',\n",
       " 'trust',\n",
       " 'show',\n",
       " 'faint',\n",
       " 'hearted',\n",
       " 'timid',\n",
       " 'show',\n",
       " 'pulls',\n",
       " 'punches',\n",
       " 'regards',\n",
       " 'drugs',\n",
       " 'sex',\n",
       " 'violence',\n",
       " 'hardcore',\n",
       " 'classic',\n",
       " 'use',\n",
       " 'wordit',\n",
       " 'called',\n",
       " 'oz',\n",
       " 'nickname',\n",
       " 'given',\n",
       " 'oswald',\n",
       " 'maximum',\n",
       " 'security',\n",
       " 'state',\n",
       " 'penitentary',\n",
       " 'focuses',\n",
       " 'mainly',\n",
       " 'emerald',\n",
       " 'city',\n",
       " 'experimental',\n",
       " 'section',\n",
       " 'prison',\n",
       " 'cells',\n",
       " 'glass',\n",
       " 'fronts',\n",
       " 'face',\n",
       " 'inwards',\n",
       " 'privacy',\n",
       " 'high',\n",
       " 'agenda',\n",
       " 'em',\n",
       " 'city',\n",
       " 'home',\n",
       " 'manyaryans',\n",
       " 'muslims',\n",
       " 'gangstas',\n",
       " 'latinos',\n",
       " 'christians',\n",
       " 'italians',\n",
       " 'irish',\n",
       " 'moreso',\n",
       " 'scuffles',\n",
       " 'death',\n",
       " 'stares',\n",
       " 'dodgy',\n",
       " 'dealings',\n",
       " 'shady',\n",
       " 'agreements',\n",
       " 'never',\n",
       " 'far',\n",
       " 'awayi',\n",
       " 'would',\n",
       " 'say',\n",
       " 'main',\n",
       " 'appeal',\n",
       " 'show',\n",
       " 'due',\n",
       " 'fact',\n",
       " 'goes',\n",
       " 'shows',\n",
       " 'would',\n",
       " 'dare',\n",
       " 'forget',\n",
       " 'pretty',\n",
       " 'pictures',\n",
       " 'painted',\n",
       " 'mainstream',\n",
       " 'audiences',\n",
       " 'forget',\n",
       " 'charm',\n",
       " 'forget',\n",
       " 'romanceoz',\n",
       " 'mess',\n",
       " 'around',\n",
       " 'first',\n",
       " 'episode',\n",
       " 'ever',\n",
       " 'saw',\n",
       " 'struck',\n",
       " 'nasty',\n",
       " 'surreal',\n",
       " 'could',\n",
       " 'say',\n",
       " 'ready',\n",
       " 'watched',\n",
       " 'developed',\n",
       " 'taste',\n",
       " 'oz',\n",
       " 'got',\n",
       " 'accustomed',\n",
       " 'high',\n",
       " 'levels',\n",
       " 'graphic',\n",
       " 'violence',\n",
       " 'violence',\n",
       " 'injustice',\n",
       " 'crooked',\n",
       " 'guards',\n",
       " 'whofll',\n",
       " 'sold',\n",
       " 'nickel',\n",
       " 'inmates',\n",
       " 'whofll',\n",
       " 'kill',\n",
       " 'order',\n",
       " 'get',\n",
       " 'away',\n",
       " 'well',\n",
       " 'mannered',\n",
       " 'middle',\n",
       " 'class',\n",
       " 'inmates',\n",
       " 'turned',\n",
       " 'prison',\n",
       " 'bitches',\n",
       " 'due',\n",
       " 'lack',\n",
       " 'street',\n",
       " 'skills',\n",
       " 'prison',\n",
       " 'experience',\n",
       " 'watching',\n",
       " 'oz',\n",
       " 'may',\n",
       " 'become',\n",
       " 'comfortable',\n",
       " 'uncomfortable',\n",
       " 'viewingthats',\n",
       " 'get',\n",
       " 'touch',\n",
       " 'darker',\n",
       " 'side']"
      ]
     },
     "execution_count": 12,
     "metadata": {},
     "output_type": "execute_result"
    }
   ],
   "source": [
    "# Remove Frequent Words \n",
    "temp = data['review'].apply(lambda words: \" \".join(words))\n",
    "freq = pd.Series(temp).value_counts()[:10]\n",
    "data['review'] = data['review'].apply(lambda words: [x for x in words if x not in freq.keys()])\n",
    "data.iloc[0][\"review\"]"
   ]
  },
  {
   "cell_type": "code",
   "execution_count": 13,
   "id": "95c34df7",
   "metadata": {},
   "outputs": [
    {
     "name": "stderr",
     "output_type": "stream",
     "text": [
      "[nltk_data] Downloading package wordnet to /home/taylan/nltk_data...\n",
      "[nltk_data]   Package wordnet is already up-to-date!\n"
     ]
    }
   ],
   "source": [
    "# Lemmetization \n",
    "\n",
    "import nltk\n",
    "from nltk.stem import WordNetLemmatizer \n",
    "nltk.download('wordnet')\n",
    "lemmatizer = WordNetLemmatizer()\n",
    "def lemmetize(element):\n",
    "    \n",
    "    lemmatized_output = [lemmatizer.lemmatize(w) for w in element]\n",
    "    lemmatized_output = \" \".join(lemmatized_output)\n",
    "    \n",
    "    return lemmatized_output\n",
    "data[\"review\"]=data[\"review\"].apply(lambda x: lemmetize(x))"
   ]
  },
  {
   "cell_type": "markdown",
   "id": "e4d0069c",
   "metadata": {},
   "source": [
    "### Vectorization \n",
    "\n",
    "There is no model that can understand the text-based data, so we need to transform our text-based data into the for of that the models can understand. There are two main approches for this, which are Count Vectorizer and Term Frequency Inverse Document Frequency(TF-IDF) Vectorizer. Count Vectorizer gives number of frequency with respect to index of vocabulary. On the other hand, Tf-Idf consider overall documents of weight of words. For more details you can visit page : https://medium.com/@cmukesh8688/tf-idf-vectorizer-scikit-learn-dbc0244a911a \n",
    "\n",
    "Count vectorizer has some disadvantages as follows: inability in identifying more important and less important words for the analysis, consideration of words that are found mostly in a corpus as the most statistically significant word. On the other side, Tf-Idf is a statistic that is based on the frequency of a word in the corpus. It also provides a numerical representation of how important a word is for statistical analysis. TF-IDF is better than Count Vectorizers since it considers both the frequency of words present and  the importance of the words in the text which provides us working with less input dimension and important words.\n",
    "\n",
    "Also Dimensionality Reductions tecniques can be applied easier for Tf-Idf, so the chosen one is it. All tools for vectorization, model implementation and measuring model performance are got from scikit-learn library."
   ]
  },
  {
   "cell_type": "code",
   "execution_count": 14,
   "id": "9a94de89",
   "metadata": {},
   "outputs": [],
   "source": [
    "# All tools for vectorization, model implementation and measuring model performance here:\n",
    "from sklearn.model_selection import train_test_split\n",
    "from sklearn.feature_extraction.text import TfidfVectorizer\n",
    "from sklearn.metrics import classification_report, confusion_matrix\n",
    "from sklearn.model_selection import cross_val_score, cross_val_predict\n",
    "from sklearn.linear_model import LogisticRegression"
   ]
  },
  {
   "cell_type": "code",
   "execution_count": 24,
   "id": "885f1e2a",
   "metadata": {},
   "outputs": [],
   "source": [
    "# Vectorization and Train-Test Split\n",
    "X = data['review']\n",
    "y = data['sentiment']\n",
    "tfidf = TfidfVectorizer()#max_features=300)#max_features=10) --> No Dimensionality Reduction for now.\n",
    "X = tfidf.fit_transform(X)\n",
    "#y=tfidf.fit_transform(y)\n",
    "x_train, x_test, y_train, y_test = train_test_split(X, y, test_size = 0.2, random_state=42)"
   ]
  },
  {
   "cell_type": "markdown",
   "id": "31f3da9c",
   "metadata": {},
   "source": [
    "**We see very high dimensional case!!!**"
   ]
  },
  {
   "cell_type": "code",
   "execution_count": 25,
   "id": "923f1414",
   "metadata": {},
   "outputs": [
    {
     "data": {
      "text/plain": [
       "((40000, 208350), (10000, 208350), (40000,), (10000,))"
      ]
     },
     "execution_count": 25,
     "metadata": {},
     "output_type": "execute_result"
    }
   ],
   "source": [
    "x_train.shape,x_test.shape,y_train.shape,y_test.shape"
   ]
  },
  {
   "cell_type": "code",
   "execution_count": 26,
   "id": "eb5337c2",
   "metadata": {},
   "outputs": [],
   "source": [
    "#x_train_frame = pd.DataFrame(x_train.toarray())\n",
    "#x_train_frame"
   ]
  },
  {
   "cell_type": "markdown",
   "id": "0eddad69",
   "metadata": {},
   "source": [
    "## PART 2 : Model Implementation using Scikit-Learn Library\n",
    "\n",
    "#### 1) Logistic Regression\n",
    "\n",
    "* dual: Dual or primal formulation. Dual formulation is only implemented for l2 penalty with liblinear solver. Prefer dual=False when n_samples > n_features.\n",
    "\n",
    "* max_iter: default=100 Maximum number of iterations of the optimization algorithm."
   ]
  },
  {
   "cell_type": "code",
   "execution_count": 27,
   "id": "d5192dd5",
   "metadata": {},
   "outputs": [
    {
     "data": {
      "text/plain": [
       "array([0.89175, 0.89125, 0.894  , 0.88925, 0.89025, 0.89475, 0.883  ,\n",
       "       0.88775, 0.8865 , 0.8905 ])"
      ]
     },
     "execution_count": 27,
     "metadata": {},
     "output_type": "execute_result"
    }
   ],
   "source": [
    "logistic_model = LogisticRegression(max_iter=200)\n",
    "scores = cross_val_score(logistic_model, x_train, y_train, cv=10, n_jobs=4)\n",
    "scores"
   ]
  },
  {
   "cell_type": "code",
   "execution_count": 28,
   "id": "df2ffb03",
   "metadata": {},
   "outputs": [
    {
     "data": {
      "text/plain": [
       "(0.894, 0.932475)"
      ]
     },
     "execution_count": 28,
     "metadata": {},
     "output_type": "execute_result"
    }
   ],
   "source": [
    "logistic_model.fit(x_train, y_train)\n",
    "logistic_model.score(x_test,y_test),logistic_model.score(x_train,y_train)\n"
   ]
  },
  {
   "cell_type": "code",
   "execution_count": 29,
   "id": "b0043b9d",
   "metadata": {},
   "outputs": [
    {
     "data": {
      "text/plain": [
       "array([[4367,  594],\n",
       "       [ 466, 4573]])"
      ]
     },
     "execution_count": 29,
     "metadata": {},
     "output_type": "execute_result"
    }
   ],
   "source": [
    "y_pred = logistic_model.predict(x_test)\n",
    "confusion_matrix(y_test,y_pred)"
   ]
  },
  {
   "cell_type": "markdown",
   "id": "a28a8cda",
   "metadata": {},
   "source": [
    "#### 2) K-Neares Neighbour\n",
    "\n",
    "* n_neighbours : determine number of neighbours, k."
   ]
  },
  {
   "cell_type": "code",
   "execution_count": 30,
   "id": "3085f74a",
   "metadata": {},
   "outputs": [
    {
     "data": {
      "text/plain": [
       "KNeighborsClassifier(n_neighbors=3)"
      ]
     },
     "execution_count": 30,
     "metadata": {},
     "output_type": "execute_result"
    }
   ],
   "source": [
    "from sklearn.neighbors import KNeighborsClassifier\n",
    "knn=KNeighborsClassifier(n_neighbors=3)\n",
    "knn.fit(x_train,y_train)"
   ]
  },
  {
   "cell_type": "code",
   "execution_count": 31,
   "id": "b8f3a362",
   "metadata": {},
   "outputs": [
    {
     "data": {
      "text/plain": [
       "array([[3434, 1527],\n",
       "       [ 848, 4191]])"
      ]
     },
     "execution_count": 31,
     "metadata": {},
     "output_type": "execute_result"
    }
   ],
   "source": [
    "y_pred=knn.predict(x_test)\n",
    "confusion_matrix(y_test,y_pred)"
   ]
  },
  {
   "cell_type": "code",
   "execution_count": 32,
   "id": "d2ba0d1d",
   "metadata": {},
   "outputs": [
    {
     "data": {
      "text/plain": [
       "(0.7625, 0.882975)"
      ]
     },
     "execution_count": 32,
     "metadata": {},
     "output_type": "execute_result"
    }
   ],
   "source": [
    "knn.score(x_test,y_test), knn.score(x_train,y_train)"
   ]
  },
  {
   "cell_type": "markdown",
   "id": "fd121aa7",
   "metadata": {},
   "source": [
    "**There is an overfitting problem here !!**\n",
    "\n",
    "**The value of k in the KNN algorithm is related to the error rate of the model. A small value of k could lead to overfitting as well as a big value of k can lead to underfitting. Also, dimesionality reduction can be help to perform better!!** "
   ]
  },
  {
   "cell_type": "code",
   "execution_count": 33,
   "id": "a776ea94",
   "metadata": {},
   "outputs": [
    {
     "data": {
      "text/plain": [
       "array([[3476, 1485],\n",
       "       [ 790, 4249]])"
      ]
     },
     "execution_count": 33,
     "metadata": {},
     "output_type": "execute_result"
    }
   ],
   "source": [
    "knn=KNeighborsClassifier(n_neighbors=5)\n",
    "knn.fit(x_train,y_train)\n",
    "y_pred=knn.predict(x_test)\n",
    "confusion_matrix(y_test,y_pred)"
   ]
  },
  {
   "cell_type": "code",
   "execution_count": 34,
   "id": "34036dec",
   "metadata": {},
   "outputs": [
    {
     "data": {
      "text/plain": [
       "(0.7725, 0.856125)"
      ]
     },
     "execution_count": 34,
     "metadata": {},
     "output_type": "execute_result"
    }
   ],
   "source": [
    "knn.score(x_test,y_test), knn.score(x_train,y_train)"
   ]
  },
  {
   "cell_type": "markdown",
   "id": "b8400c86",
   "metadata": {},
   "source": [
    "**Better but not enough!!**"
   ]
  },
  {
   "cell_type": "code",
   "execution_count": 35,
   "id": "083e1454",
   "metadata": {},
   "outputs": [
    {
     "data": {
      "text/plain": [
       "array([[3806, 1155],\n",
       "       [ 938, 4101]])"
      ]
     },
     "execution_count": 35,
     "metadata": {},
     "output_type": "execute_result"
    }
   ],
   "source": [
    "knn=KNeighborsClassifier(n_neighbors=10)\n",
    "knn.fit(x_train,y_train)\n",
    "y_pred=knn.predict(x_test)\n",
    "confusion_matrix(y_test,y_pred)"
   ]
  },
  {
   "cell_type": "code",
   "execution_count": 36,
   "id": "c8431a85",
   "metadata": {},
   "outputs": [
    {
     "data": {
      "text/plain": [
       "(0.7907, 0.8368)"
      ]
     },
     "execution_count": 36,
     "metadata": {},
     "output_type": "execute_result"
    }
   ],
   "source": [
    "knn.score(x_test,y_test), knn.score(x_train,y_train)"
   ]
  },
  {
   "cell_type": "code",
   "execution_count": 37,
   "id": "1e4785ec",
   "metadata": {},
   "outputs": [
    {
     "data": {
      "text/plain": [
       "array([[3545, 1416],\n",
       "       [ 684, 4355]])"
      ]
     },
     "execution_count": 37,
     "metadata": {},
     "output_type": "execute_result"
    }
   ],
   "source": [
    "knn=KNeighborsClassifier(n_neighbors=15)\n",
    "knn.fit(x_train,y_train)\n",
    "y_pred=knn.predict(x_test)\n",
    "confusion_matrix(y_test,y_pred)"
   ]
  },
  {
   "cell_type": "code",
   "execution_count": 38,
   "id": "d4053349",
   "metadata": {},
   "outputs": [
    {
     "data": {
      "text/plain": [
       "(0.79, 0.8233)"
      ]
     },
     "execution_count": 38,
     "metadata": {},
     "output_type": "execute_result"
    }
   ],
   "source": [
    "knn.score(x_test,y_test), knn.score(x_train,y_train)"
   ]
  },
  {
   "cell_type": "code",
   "execution_count": null,
   "id": "5bc8865c",
   "metadata": {},
   "outputs": [],
   "source": []
  },
  {
   "cell_type": "code",
   "execution_count": 39,
   "id": "2914fc6d",
   "metadata": {},
   "outputs": [
    {
     "data": {
      "text/plain": [
       "array([[3773, 1188],\n",
       "       [ 921, 4118]])"
      ]
     },
     "execution_count": 39,
     "metadata": {},
     "output_type": "execute_result"
    }
   ],
   "source": [
    "knn=KNeighborsClassifier(n_neighbors=12)\n",
    "knn.fit(x_train,y_train)\n",
    "y_pred=knn.predict(x_test)\n",
    "confusion_matrix(y_test,y_pred)"
   ]
  },
  {
   "cell_type": "code",
   "execution_count": 40,
   "id": "083d6354",
   "metadata": {},
   "outputs": [
    {
     "data": {
      "text/plain": [
       "(0.7891, 0.831625)"
      ]
     },
     "execution_count": 40,
     "metadata": {},
     "output_type": "execute_result"
    }
   ],
   "source": [
    "knn.score(x_test,y_test), knn.score(x_train,y_train)"
   ]
  },
  {
   "cell_type": "code",
   "execution_count": null,
   "id": "25d301d7",
   "metadata": {},
   "outputs": [],
   "source": []
  },
  {
   "cell_type": "markdown",
   "id": "315e1731",
   "metadata": {},
   "source": [
    "#### 3) Support Vector Machine\n",
    "\n",
    "It doesnt converge for time 1 hour. It needs dimensionality reduction teqniques!!!"
   ]
  },
  {
   "cell_type": "code",
   "execution_count": 31,
   "id": "1b7076c8",
   "metadata": {},
   "outputs": [
    {
     "ename": "SyntaxError",
     "evalue": "EOF while scanning triple-quoted string literal (<ipython-input-31-7b4b0c1d70bc>, line 7)",
     "output_type": "error",
     "traceback": [
      "\u001b[0;36m  File \u001b[0;32m\"<ipython-input-31-7b4b0c1d70bc>\"\u001b[0;36m, line \u001b[0;32m7\u001b[0m\n\u001b[0;31m    confusion_matrix(y_test,y_pred)\u001b[0m\n\u001b[0m                                   \n^\u001b[0m\n\u001b[0;31mSyntaxError\u001b[0m\u001b[0;31m:\u001b[0m EOF while scanning triple-quoted string literal\n"
     ]
    }
   ],
   "source": [
    "''''from sklearn import svm\n",
    "\n",
    "%%time\n",
    "clf = svm.SVC()\n",
    "clf.fit(x_train, y_train)\n",
    "y_pred = clf.predict(x_test)\n",
    "confusion_matrix(y_test,y_pred)"
   ]
  },
  {
   "cell_type": "code",
   "execution_count": null,
   "id": "f1881b56",
   "metadata": {},
   "outputs": [],
   "source": []
  },
  {
   "cell_type": "code",
   "execution_count": null,
   "id": "9a73765e",
   "metadata": {},
   "outputs": [],
   "source": []
  },
  {
   "cell_type": "markdown",
   "id": "280d706d",
   "metadata": {},
   "source": [
    "# PART 3 : Dimensionality Reduction and Hyperparemeter Optimization for Models\n",
    "\n",
    "* In this part again Scikit Learn Library will be used for model implementation\n",
    "* First Dimensionality Reduction teqniques are used and then model implementation.\n",
    "* At the end, comparision with model results that created without dimensionality reduction."
   ]
  },
  {
   "cell_type": "markdown",
   "id": "f258d918",
   "metadata": {},
   "source": [
    "### TF-IDF Vectorizer\n",
    "\n",
    "* It is a numerical statistic that is intended to reflect how important a word is to a document in a collection or corpus. It is often used as a weighting factor in searches of information retrieval, text mining, and user modeling. The tf–idf value increases proportionally to the number of times a word appears in the document and is offset by the number of documents in the corpus that contain the word, which helps to adjust for the fact that some words appear more frequently in general. (see more information here: https://en.wikipedia.org/wiki/Tf%E2%80%93idf )\n",
    "\n",
    "* max_features : The purpose of max_features is to limit the number of features (words) from the dataset for which we want to calculate the TF-IDF scores. This is done by choosing the features based on term frequency across the corpus. More info : https://www.deepwizai.com/projects/how-to-correctly-use-tf-idf-with-imbalanced-data\n",
    "\n",
    "* So max_feature paremeter for TfidfVectorizer is a teqnique for reduction od dimension, so complexity, it is a very essential dimensinality reduction tecniques like our text processing functions. "
   ]
  },
  {
   "cell_type": "code",
   "execution_count": 41,
   "id": "b59130ba",
   "metadata": {},
   "outputs": [],
   "source": [
    "from sklearn.feature_extraction.text import TfidfVectorizer\n",
    "X = data['review']\n",
    "y = data['sentiment']\n",
    "tfidf = TfidfVectorizer(max_features=300)\n",
    "X = tfidf.fit_transform(X)"
   ]
  },
  {
   "cell_type": "code",
   "execution_count": 42,
   "id": "4b1664b6",
   "metadata": {},
   "outputs": [
    {
     "data": {
      "text/plain": [
       "((50000, 300), (50000,))"
      ]
     },
     "execution_count": 42,
     "metadata": {},
     "output_type": "execute_result"
    }
   ],
   "source": [
    "X.shape,y.shape"
   ]
  },
  {
   "cell_type": "code",
   "execution_count": 43,
   "id": "369e2e4e",
   "metadata": {},
   "outputs": [],
   "source": [
    "x_train, x_test, y_train, y_test = train_test_split(X, y, test_size = 0.2, random_state=42)"
   ]
  },
  {
   "cell_type": "markdown",
   "id": "3db4a1e4",
   "metadata": {},
   "source": [
    "### Logistic Model\n",
    "\n",
    "* Before accuracy: (0.894, 0.932475) for:(test accuracy,train accuracy)"
   ]
  },
  {
   "cell_type": "code",
   "execution_count": 44,
   "id": "539646ce",
   "metadata": {},
   "outputs": [
    {
     "data": {
      "text/plain": [
       "(0.8131, 0.816875)"
      ]
     },
     "execution_count": 44,
     "metadata": {},
     "output_type": "execute_result"
    }
   ],
   "source": [
    "logistic_model = LogisticRegression(max_iter=200)\n",
    "logistic_model.fit(x_train, y_train)\n",
    "logistic_model.score(x_test,y_test),logistic_model.score(x_train,y_train)"
   ]
  },
  {
   "cell_type": "markdown",
   "id": "1008fc94",
   "metadata": {},
   "source": [
    "* Current  accuracy : (0.8807, 0.89935) overfittin is better. Since The feature number decreases it didnt give better test result. with the increasing number of max_feature paremeter it can give better result than the before test accuracy."
   ]
  },
  {
   "cell_type": "markdown",
   "id": "dbbd19c3",
   "metadata": {},
   "source": [
    "### KNN Model \n",
    "\n",
    "* Before accuracies with some spesific k and the form (test accuracy,train accuracy)\n",
    "  * k=3 (0.7625, 0.882975)\n",
    "  * k=5 (0.7725, 0.856125)\n",
    "  * k=10 (0.7907, 0.8368)"
   ]
  },
  {
   "cell_type": "code",
   "execution_count": 45,
   "id": "0053da72",
   "metadata": {},
   "outputs": [
    {
     "data": {
      "text/plain": [
       "(0.668, 0.931225)"
      ]
     },
     "execution_count": 45,
     "metadata": {},
     "output_type": "execute_result"
    }
   ],
   "source": [
    "knn=KNeighborsClassifier(n_neighbors=3)\n",
    "knn.fit(x_train,y_train)\n",
    "#y_pred=knn.predict(x_test)\n",
    "#confusion_matrix(y_test,y_pred)\n",
    "knn.score(x_test,y_test), knn.score(x_train,y_train)"
   ]
  },
  {
   "cell_type": "code",
   "execution_count": 46,
   "id": "d9f80089",
   "metadata": {},
   "outputs": [
    {
     "data": {
      "text/plain": [
       "(0.6927, 0.835)"
      ]
     },
     "execution_count": 46,
     "metadata": {},
     "output_type": "execute_result"
    }
   ],
   "source": [
    "knn=KNeighborsClassifier(n_neighbors=5)\n",
    "knn.fit(x_train,y_train)\n",
    "#y_pred=knn.predict(x_test)\n",
    "#confusion_matrix(y_test,y_pred)\n",
    "knn.score(x_test,y_test), knn.score(x_train,y_train)"
   ]
  },
  {
   "cell_type": "code",
   "execution_count": 47,
   "id": "7f020773",
   "metadata": {},
   "outputs": [
    {
     "data": {
      "text/plain": [
       "(0.7207, 0.79205)"
      ]
     },
     "execution_count": 47,
     "metadata": {},
     "output_type": "execute_result"
    }
   ],
   "source": [
    "knn=KNeighborsClassifier(n_neighbors=10)\n",
    "knn.fit(x_train,y_train)\n",
    "#y_pred=knn.predict(x_test)\n",
    "#confusion_matrix(y_test,y_pred)\n",
    "knn.score(x_test,y_test), knn.score(x_train,y_train)"
   ]
  },
  {
   "cell_type": "markdown",
   "id": "2c1a49f8",
   "metadata": {},
   "source": [
    "* After accuracies with some spesific k and the form (test accuracy,train accuracy)\n",
    "  * k=3 (0.7293, 0.85995)\n",
    "  * k=5 (0.7358, 0.830275)\n",
    "  * k=10 (0.7614, 0.81395)"
   ]
  },
  {
   "cell_type": "markdown",
   "id": "b17963f0",
   "metadata": {},
   "source": [
    "### SVM Model \n",
    "\n",
    "* Before: It didint give a result in reasonable time."
   ]
  },
  {
   "cell_type": "code",
   "execution_count": 48,
   "id": "85a75022",
   "metadata": {},
   "outputs": [
    {
     "data": {
      "text/plain": [
       "(0.927975, 0.8185)"
      ]
     },
     "execution_count": 48,
     "metadata": {},
     "output_type": "execute_result"
    }
   ],
   "source": [
    "from sklearn import svm\n",
    "\n",
    "\n",
    "clf = svm.SVC()\n",
    "clf.fit(x_train, y_train)\n",
    "#y_pred = clf.predict(x_test)\n",
    "#confusion_matrix(y_test,y_pred)\n",
    "clf.score(x_train,y_train),clf.score(x_test,y_test)"
   ]
  },
  {
   "cell_type": "code",
   "execution_count": 49,
   "id": "ec757100",
   "metadata": {},
   "outputs": [],
   "source": [
    "y_pred = clf.predict(x_test)\n",
    "from sklearn.metrics import accuracy_score\n",
    "accuracy = accuracy_score(y_test,y_pred)*100 "
   ]
  },
  {
   "cell_type": "code",
   "execution_count": 50,
   "id": "87c83a74",
   "metadata": {},
   "outputs": [
    {
     "data": {
      "text/plain": [
       "81.85"
      ]
     },
     "execution_count": 50,
     "metadata": {},
     "output_type": "execute_result"
    }
   ],
   "source": [
    "accuracy"
   ]
  },
  {
   "cell_type": "markdown",
   "id": "b97a08fd",
   "metadata": {},
   "source": [
    "* After : It gave result but, again train score higher than test score , (0.885,0.976), form of (test accuracy,train accuracy)"
   ]
  },
  {
   "cell_type": "markdown",
   "id": "09be0b4d",
   "metadata": {},
   "source": [
    "### Principal Component Analysis and Tf-Idf"
   ]
  },
  {
   "cell_type": "markdown",
   "id": "59b22a5f",
   "metadata": {},
   "source": [
    "TF-IDF is a scoring method that assigns a score to each word in the sentence. The score is high if the word does not commonly occur in all the reviews but occurs frequently overall. For example, the word course occurs frequently, but it occurs in almost every other review. So TF-IDF score for that word would below. On the other hand, the word poor occurs frequently and is specific to only negative reviews. So its score is higher.\n",
    "\n",
    "So for every review, we have fixed length TF-IDF vector. The length of the vector is the size of the vocabulary.\n",
    "\n",
    "How to reduce dimensionality, lets use Principial Component Analysis(PCA). What is PCA? \n",
    "\n",
    "PCA is a statistical technique for reducing the dimensionality of a dataset. This is accomplished by linearly transforming the data into a new coordinate system where (most of) the variation in the data can be described with fewer dimensions than the initial data. Many studies use the first two principal components in order to plot the data in two dimensions and to visually identify clusters of closely related data points. \n",
    "\n",
    "Links:\n",
    "\n",
    "https://towardsdatascience.com/introduction-to-principal-component-analysis-pca-with-python-code-69d3fcf19b57\n",
    "https://en.wikipedia.org/wiki/Principal_component_analysis"
   ]
  },
  {
   "cell_type": "code",
   "execution_count": 51,
   "id": "5ea9fecb",
   "metadata": {},
   "outputs": [],
   "source": [
    "vectorizer = TfidfVectorizer(max_features=5000) # for default Unable to allocate 77.6 GiB for an array with shape (50000, 208350) and data type float64\n",
    "reviews = list(data['review'])                  # so set max_feature \n",
    "labels = data['sentiment']\n",
    "\n",
    "tfidf_reviews = vectorizer.fit_transform(reviews)"
   ]
  },
  {
   "cell_type": "code",
   "execution_count": 52,
   "id": "95dbad4e",
   "metadata": {},
   "outputs": [
    {
     "name": "stdout",
     "output_type": "stream",
     "text": [
      "Shape of the array: (50000, 5000)\n"
     ]
    }
   ],
   "source": [
    "tfidf_array = tfidf_reviews.toarray()\n",
    "print(\"Shape of the array:\",tfidf_array.shape)"
   ]
  },
  {
   "cell_type": "code",
   "execution_count": 53,
   "id": "71f9687d",
   "metadata": {},
   "outputs": [
    {
     "name": "stdout",
     "output_type": "stream",
     "text": [
      "Percentage of zeros: 98.4765016\n"
     ]
    }
   ],
   "source": [
    "\n",
    "print(\"Percentage of zeros:\",\n",
    "      np.count_nonzero(tfidf_array==0)/(tfidf_array.shape[0]*tfidf_array.shape[1])*100)\n",
    "#only 0.078% of the array elements are non zero. Such a waste of space!"
   ]
  },
  {
   "cell_type": "code",
   "execution_count": 54,
   "id": "4554c650",
   "metadata": {},
   "outputs": [],
   "source": [
    "from sklearn.decomposition import PCA\n",
    "NUM_COMPONENTS = 300\n",
    "pca = PCA(NUM_COMPONENTS)\n",
    "reduced = pca.fit_transform(tfidf_array)"
   ]
  },
  {
   "cell_type": "code",
   "execution_count": 55,
   "id": "55a76b6a",
   "metadata": {},
   "outputs": [
    {
     "data": {
      "text/plain": [
       "(50000, 300)"
      ]
     },
     "execution_count": 55,
     "metadata": {},
     "output_type": "execute_result"
    }
   ],
   "source": [
    "reduced.shape"
   ]
  },
  {
   "cell_type": "code",
   "execution_count": 56,
   "id": "7a5f6e66",
   "metadata": {},
   "outputs": [],
   "source": [
    "x_train, x_test, y_train, y_test = train_test_split(reduced, labels, test_size = 0.2, random_state=42)"
   ]
  },
  {
   "cell_type": "code",
   "execution_count": 57,
   "id": "77bd7ec9",
   "metadata": {},
   "outputs": [
    {
     "data": {
      "text/plain": [
       "(40000, 300)"
      ]
     },
     "execution_count": 57,
     "metadata": {},
     "output_type": "execute_result"
    }
   ],
   "source": [
    "x_train.shape"
   ]
  },
  {
   "cell_type": "code",
   "execution_count": 58,
   "id": "e70dd987",
   "metadata": {},
   "outputs": [
    {
     "data": {
      "text/plain": [
       "(0.87, 0.87245)"
      ]
     },
     "execution_count": 58,
     "metadata": {},
     "output_type": "execute_result"
    }
   ],
   "source": [
    "logistic_model = LogisticRegression(max_iter=200)\n",
    "logistic_model.fit(x_train, y_train)\n",
    "logistic_model.score(x_test,y_test),logistic_model.score(x_train,y_train)"
   ]
  },
  {
   "cell_type": "code",
   "execution_count": 59,
   "id": "69892713",
   "metadata": {},
   "outputs": [
    {
     "data": {
      "text/plain": [
       "(0.7087, 0.7817)"
      ]
     },
     "execution_count": 59,
     "metadata": {},
     "output_type": "execute_result"
    }
   ],
   "source": [
    "knn=KNeighborsClassifier(n_neighbors=10)\n",
    "knn.fit(x_train,y_train)\n",
    "#y_pred=knn.predict(x_test)\n",
    "#confusion_matrix(y_test,y_pred)\n",
    "knn.score(x_test,y_test), knn.score(x_train,y_train)"
   ]
  },
  {
   "cell_type": "code",
   "execution_count": 60,
   "id": "5180d681",
   "metadata": {},
   "outputs": [
    {
     "data": {
      "text/plain": [
       "(0.9493, 0.879)"
      ]
     },
     "execution_count": 60,
     "metadata": {},
     "output_type": "execute_result"
    }
   ],
   "source": [
    "from sklearn import svm\n",
    "clf = svm.SVC()\n",
    "clf.fit(x_train, y_train)\n",
    "#y_pred = clf.predict(x_test)\n",
    "#confusion_matrix(y_test,y_pred)\n",
    "clf.score(x_train,y_train),clf.score(x_test,y_test)"
   ]
  },
  {
   "cell_type": "markdown",
   "id": "3d117784",
   "metadata": {},
   "source": [
    "### Very Simple way of avoiding Overfitting:Reducing Training Samples\n",
    "\n",
    "* Lets try reducing training samples, it can prevent model to learn exesively."
   ]
  },
  {
   "cell_type": "code",
   "execution_count": 61,
   "id": "e2c586ee",
   "metadata": {},
   "outputs": [],
   "source": [
    "from sklearn.feature_extraction.text import TfidfVectorizer\n",
    "reviews = data['review'].iloc[:25000]\n",
    "label = data['sentiment'].iloc[:25000]\n",
    "tfidf = TfidfVectorizer(max_features=5000)\n",
    "tfidf_reviews = tfidf.fit_transform(reviews)"
   ]
  },
  {
   "cell_type": "code",
   "execution_count": 62,
   "id": "f168f403",
   "metadata": {},
   "outputs": [
    {
     "name": "stdout",
     "output_type": "stream",
     "text": [
      "Shape of the array: (25000, 5000)\n"
     ]
    }
   ],
   "source": [
    "tfidf_array = tfidf_reviews.toarray()\n",
    "print(\"Shape of the array:\",tfidf_array.shape)"
   ]
  },
  {
   "cell_type": "code",
   "execution_count": 63,
   "id": "bffebd17",
   "metadata": {},
   "outputs": [],
   "source": [
    "from sklearn.decomposition import PCA\n",
    "NUM_COMPONENTS = 300\n",
    "pca = PCA(NUM_COMPONENTS)\n",
    "reduced = pca.fit_transform(tfidf_array)"
   ]
  },
  {
   "cell_type": "code",
   "execution_count": 64,
   "id": "82011618",
   "metadata": {},
   "outputs": [],
   "source": [
    "x_train, x_test, y_train, y_test = train_test_split(reduced, label, test_size = 0.2, random_state=42)"
   ]
  },
  {
   "cell_type": "code",
   "execution_count": 65,
   "id": "410dee22",
   "metadata": {},
   "outputs": [
    {
     "data": {
      "text/plain": [
       "((20000, 300), (5000, 300), (20000,))"
      ]
     },
     "execution_count": 65,
     "metadata": {},
     "output_type": "execute_result"
    }
   ],
   "source": [
    "x_train.shape, x_test.shape,y_train.shape"
   ]
  },
  {
   "cell_type": "code",
   "execution_count": 66,
   "id": "08018325",
   "metadata": {},
   "outputs": [
    {
     "data": {
      "text/plain": [
       "(0.8632, 0.87355)"
      ]
     },
     "execution_count": 66,
     "metadata": {},
     "output_type": "execute_result"
    }
   ],
   "source": [
    "logistic_model = LogisticRegression(max_iter=200)\n",
    "logistic_model.fit(x_train, y_train)\n",
    "logistic_model.score(x_test,y_test),logistic_model.score(x_train,y_train)"
   ]
  },
  {
   "cell_type": "code",
   "execution_count": 67,
   "id": "a65b0a33",
   "metadata": {},
   "outputs": [
    {
     "data": {
      "text/plain": [
       "(0.7068, 0.78685)"
      ]
     },
     "execution_count": 67,
     "metadata": {},
     "output_type": "execute_result"
    }
   ],
   "source": [
    "knn=KNeighborsClassifier(n_neighbors=10)\n",
    "knn.fit(x_train,y_train)\n",
    "#y_pred=knn.predict(x_test)\n",
    "#confusion_matrix(y_test,y_pred)\n",
    "knn.score(x_test,y_test), knn.score(x_train,y_train)"
   ]
  },
  {
   "cell_type": "code",
   "execution_count": 68,
   "id": "8f7ad4b2",
   "metadata": {},
   "outputs": [
    {
     "data": {
      "text/plain": [
       "(0.865, 0.9536)"
      ]
     },
     "execution_count": 68,
     "metadata": {},
     "output_type": "execute_result"
    }
   ],
   "source": [
    "from sklearn import svm\n",
    "\n",
    "\n",
    "clf = svm.SVC()\n",
    "clf.fit(x_train, y_train)\n",
    "#y_pred = clf.predict(x_test)\n",
    "#confusion_matrix(y_test,y_pred)\n",
    "clf.score(x_test,y_test), clf.score(x_train,y_train)"
   ]
  },
  {
   "cell_type": "markdown",
   "id": "e4f490e9",
   "metadata": {},
   "source": [
    "### Pre-Results\n",
    "\n",
    "* 1) Without any Dimensionality Reduction, we have very high demsional feature space. Our training input x_train.shape : (40000, 208350). And the models gives results as follows, in  the order of test accuracy and train accuracy:\n",
    "\n",
    "   * Logistic Model Result :\n",
    "   \n",
    "       * (0.894, 0.932475)\n",
    "       \n",
    "   * KNN Model Results for different k values:\n",
    "   \n",
    "       * k=3 : (0.7625, 0.882975)\n",
    "       * k=5 : (0.7725, 0.856125)\n",
    "       * k=10 : (0.7907, 0.8368)\n",
    "       * k=12 : (0.7891, 0.831625)\n",
    "       * k=15 : (0.79, 0.8233)\n",
    "       \n",
    "   * SVM Model Resul :\n",
    "   \n",
    "       * It didnt give result in a reasonable time.\n",
    "       \n",
    "\n",
    "* 2) With an simple complexity reduction by directly reducing feauture number using paremeter max_feature of Tf-Idf Vectorizer as explained above. Our training input x_train.shape : (40000, 300) The model gives results as follows, in  the order of test accuracy and train accuracy:\n",
    "\n",
    "   * Logistic Model Result :\n",
    "   \n",
    "       * (0.8131, 0.816875)\n",
    "       \n",
    "   * KNN Model Results for different k values:\n",
    "   \n",
    "       * k=3 (0.7293, 0.85995)\n",
    "       * k=5 (0.7358, 0.830275)\n",
    "       * k=10 (0.7614, 0.81395)\n",
    "       \n",
    "   * SVM Model Result :\n",
    "   \n",
    "       * (0.885,0.976)\n",
    "\n",
    "\n",
    "\n",
    "* 3) Dimesion Reduction with Principal Component Analysis and Tf-Idf. Our training input x_train.shape : (40000,300)\n",
    "\n",
    "   * Logistic Model Result :\n",
    "   \n",
    "       * (0.87, 0.871975)\n",
    "       \n",
    "   * KNN Model Results for different k values:\n",
    "   \n",
    "       * k=10 (0.715, 0.78515)\n",
    "       \n",
    "   * SVM Model Result :\n",
    "   \n",
    "       * (0.8799, 0.9498)\n",
    "       \n",
    "* 4) Reducing Training Samples for avoiding Overfitting. Our training input x_train.shape : (20000, 200). It converges faster as expected.\n",
    "\n",
    "   * Logistic Model Result :\n",
    "   \n",
    "       * (0.8598, 0.87155)\n",
    "       \n",
    "   * KNN Model Results for different k values:\n",
    "   \n",
    "       * k=10 (0.707, 0.78825)\n",
    "       \n",
    "   * SVM Model Result :\n",
    "   \n",
    "       * (0.8632, 0.9531)\n",
    "\n",
    "\n",
    "\n",
    "\n"
   ]
  },
  {
   "cell_type": "markdown",
   "id": "79ca2ef9",
   "metadata": {},
   "source": [
    "### Comment on Pre-Results\n",
    "\n",
    "* Dimesionality reduction leads to models perform faster, SVM converges but there is an overfitting problem even though test accuracy results are satifactory. Differen complexity reduction teqniques are performed and all gave the same overfitting result. Just for Logistic Regression model, we can say there is no overfitting.\n",
    "\n",
    "* There can be many reasons for overfitting for each model. Consideration of that will be given later as in the topic of Possible Reason of Overfitting.\n",
    "\n",
    "* As well as this, increasing k until some optimal point, it gives better result. It will be considered in hyperparameter optimization part. Hyperparemeter optimization may also reduce overfitting.\n",
    "\n",
    "* Best performance is shown by Logistic Regression, then SVM and the worst is KNN model. \n",
    "\n"
   ]
  },
  {
   "cell_type": "markdown",
   "id": "6df1ee27",
   "metadata": {},
   "source": [
    "### OverFitting for Models \n",
    "\n",
    "* KNN https://online.stat.psu.edu/stat508/lesson/9/9.3\n",
    "\n",
    "    * https://www.baeldung.com/cs/k-nearest-neighbors\n",
    "    \n",
    "    * Smoothing. To prevent overfitting, we can smooth the decision boundary by K nearest neighbors.\n",
    "    \n",
    "    * The amount of computation can be intense when the training data is large since the distance between a new data point and every training point has to be computed and sorted.\n",
    "\n",
    "    * Feature standardization is often performed in pre-processing. Because standardization affects the distance, if one wants the features to play a similar role in determining the distance, standardization is recommended. However, whether to apply normalization is rather subjective. One has to decide on an individual basis for the problem in consideration.\n",
    "\n",
    "    * The only parameter that can adjust the complexity of KNN is the number of neighbors k. The larger k is, the smoother the classification boundary. Or we can think of the complexity of KNN as lower when k increases.\n",
    "    \n",
    "    * It's main disadvantages are that it is quite computationally inefficient and its difficult to pick the “correct” value of K. \n",
    "    \n",
    "    * And also very high k can lead underfitting. Thats why it has an optimal point.\n",
    "    \n",
    "    \n",
    "* Logistic Regression http://eointravers.com/post/logistic-overfit/\n",
    "  \n",
    "  * Sometimes, you end up with situations where the model wants to predict y=1  or y=0 . This happens when it’s possible to draw a straight line through your data so that every y=1 on one side of the line, and 0 on the other. This is called perfect separation.\n",
    "\n",
    "  *  To do this, it must set the regression weights,  as large as possible. In theory, the model could fit the data if you could set wights as large as possible, but your software can’t do that. Instead, it iteratively tries higher and higher values until it reaches values that are too large for your computer to store.\n",
    "  \n",
    "  * The more predictors you have (the higher the dimensionality), the more likely it is that it will be possible to perfectly separate the two sets of values. As a result, overfitting becomes more of an issue when you have many predictors.\n",
    "  \n",
    "  \n",
    "* SVM Model https://stats.stackexchange.com/questions/35276/svm-overfitting-curse-of-dimensionality\n",
    "\n",
    "  *  In practice, the reason that SVMs tend to be resistant to over-fitting, even in cases where the number of attributes is greater than the number of observations, is that it uses regularization. They key to avoiding over-fitting lies in careful tuning of the regularization parameter, C, and in the case of non-linear SVMs, careful choice of kernel and tuning of the kernel parameters.\n",
    "\n",
    "  * The SVM is an approximate implementation of a bound on the generalization error, that depends on the margin (essentially the distance from the decision boundary to the nearest pattern from each class), but is independent of the dimensionality of the feature space (which is why using the kernel trick to map the data into a very high dimensional space isn't such a bad idea as it might seem). So in principle SVMs should be highly resistant to over-fitting, but in practice this depends on the careful choice of C and the kernel parameters. Sadly, over-fitting can also occur quite easily when tuning the hyper-parameters as well.\n",
    "  \n"
   ]
  },
  {
   "cell_type": "markdown",
   "id": "b2b92f69",
   "metadata": {},
   "source": [
    "## HyperParameter Optimizations\n",
    "\n",
    "Hyperparameter tuning (or hyperparameter optimization) is the process of determining the right combination of hyperparameters that maximizes the model performance. \n",
    "\n",
    "* Logistic Model\n",
    "\n",
    "    * Regularization, Daul Formulation effect on result is performed.\n",
    "        \n",
    "    * max_iter and C values are performed.\n",
    "    \n",
    "* KNN Model \n",
    "    \n",
    "    * k value optimization is performed.\n",
    "    \n",
    "* SVM Model \n",
    "\n",
    "    * C parameter and kernel paremeters optmization is performed.\n",
    "\n",
    "    "
   ]
  },
  {
   "cell_type": "markdown",
   "id": "fcea6544",
   "metadata": {},
   "source": [
    "### Logistic Model Regularization and Dual Formulation Effect on Overfitting, \n",
    "\n",
    "* Regulurization is importon to prune overfitting, as default Scikit Learn Logistic model has regulurization Lets see what happens we add regulurization and dont add regulurization\n",
    "\n",
    "* penalty{‘l1’, ‘l2’, ‘elasticnet’, None}, default=’l2’\n",
    "    Specify the norm of the penalty:\n",
    "\n",
    "    None: no penalty is added;\n",
    "\n",
    "    'l2': add a L2 penalty term and it is the default choice;\n",
    "\n",
    "    'l1': add a L1 penalty term;\n",
    "\n",
    "    'elasticnet': both L1 and L2 penalty terms are added.\n",
    "\n",
    "* Cfloat, default=1.0  Inverse of regularization strength; must be a positive float. Like in support vector machines, smaller values specify stronger regularization.\n",
    "\n",
    "* dualbool, default=False Dual or primal formulation. Dual formulation is only implemented for l2 penalty with liblinear solver. Prefer dual=False when n_samples > n_features.\n",
    "\n",
    "* solver{‘lbfgs’, ‘liblinear’, ‘newton-cg’, ‘newton-cholesky’, ‘sag’, ‘saga’}, default=’lbfgs’ Algorithm to use in the optimization problem. Default is ‘lbfgs’. To choose a solver, you might want to consider the following aspects: For small datasets, ‘liblinear’ is a good choice, whereas ‘sag’ and ‘saga’ are faster for large ones; For multiclass problems, only ‘newton-cg’, ‘sag’, ‘saga’ and ‘lbfgs’ handle multinomial loss; ‘liblinear’ and is limited to one-versus-rest schemes. ‘newton-cholesky’ is a good choice for n_samples >> n_features, especially with one-hot encoded categorical features with rare categories. Note that it is limited to binary classification and the one-versus-rest reduction for multiclass classification. Be aware that the memory usage of this solver has a quadratic dependency on n_features because it explicitly computes the Hessian matrix."
   ]
  },
  {
   "cell_type": "code",
   "execution_count": 69,
   "id": "4bb041a3",
   "metadata": {},
   "outputs": [
    {
     "data": {
      "text/plain": [
       "((0.862, 0.8754), (0.862, 0.87545), (0.862, 0.87545), (0.8658, 0.87315))"
      ]
     },
     "execution_count": 69,
     "metadata": {},
     "output_type": "execute_result"
    }
   ],
   "source": [
    "\n",
    "logistic_model = LogisticRegression(max_iter=200, C=1000) # default l2 ridge regurulization\n",
    "logistic_model.fit(x_train, y_train)\n",
    "first = logistic_model.score(x_test,y_test),logistic_model.score(x_train,y_train)\n",
    "\n",
    "logistic_model = LogisticRegression(max_iter=200, C=1000000) #make weaker penalty term\n",
    "logistic_model.fit(x_train, y_train)\n",
    "second = logistic_model.score(x_test,y_test),logistic_model.score(x_train,y_train)\n",
    "\n",
    "logistic_model = LogisticRegression(max_iter=200, penalty=\"none\") # no penalty term\n",
    "logistic_model.fit(x_train, y_train)\n",
    "third = logistic_model.score(x_test,y_test),logistic_model.score(x_train,y_train)\n",
    "\n",
    "logistic_model = LogisticRegression(max_iter=200, penalty=\"l1\",solver=\"liblinear\") # with L1 regularization\n",
    "logistic_model.fit(x_train, y_train)\n",
    "fourth = logistic_model.score(x_test,y_test),logistic_model.score(x_train,y_train)\n",
    "\n",
    "first,second,third,fourth"
   ]
  },
  {
   "cell_type": "code",
   "execution_count": 70,
   "id": "7edf3149",
   "metadata": {},
   "outputs": [
    {
     "data": {
      "text/plain": [
       "(0.8636, 0.87355)"
      ]
     },
     "execution_count": 70,
     "metadata": {},
     "output_type": "execute_result"
    }
   ],
   "source": [
    "# With Dual Formulation\n",
    "logistic_model = LogisticRegression(max_iter=200, penalty=\"l2\",solver=\"liblinear\",dual=True)\n",
    "logistic_model.fit(x_train, y_train)\n",
    "logistic_model.score(x_test,y_test),logistic_model.score(x_train,y_train)"
   ]
  },
  {
   "cell_type": "markdown",
   "id": "3a2aa6c4",
   "metadata": {},
   "source": [
    "**We can say regularization and dual formulation have almost zero effect on the results for our case, but it needs mode study on it.**"
   ]
  },
  {
   "cell_type": "markdown",
   "id": "17d30df4",
   "metadata": {},
   "source": [
    "### To optmize time for Hyperparameter optimization, lets create train and test data for less data."
   ]
  },
  {
   "cell_type": "code",
   "execution_count": 71,
   "id": "973a4288",
   "metadata": {},
   "outputs": [],
   "source": [
    "from sklearn.feature_extraction.text import TfidfVectorizer\n",
    "X = data['review'].iloc[:25000]\n",
    "y = data['sentiment'].iloc[:25000]\n",
    "tfidf = TfidfVectorizer(max_features=500)\n",
    "X = tfidf.fit_transform(X)\n",
    "x_train, x_test, y_train, y_test = train_test_split(X, y, test_size = 0.2, random_state=42)"
   ]
  },
  {
   "cell_type": "code",
   "execution_count": 72,
   "id": "f14b8fd1",
   "metadata": {},
   "outputs": [],
   "source": [
    "def optimize_max_iter(upper,lower):\n",
    "    test_score=[]\n",
    "    train_score=[]\n",
    "    iterations=[]\n",
    "    optimum_iter=0\n",
    "    key_score=0\n",
    "    for i in range(upper,lower):\n",
    "        if i%20==0:\n",
    "            logistic_model = LogisticRegression(max_iter=i)\n",
    "            logistic_model.fit(x_train, y_train)\n",
    "            test_accuracy=logistic_model.score(x_test,y_test)\n",
    "            train_accuracy=logistic_model.score(x_train,y_train)\n",
    "            test_score.append(logistic_model.score(x_test,y_test))\n",
    "            train_score.append(logistic_model.score(x_train,y_train))\n",
    "            iterations.append(i)\n",
    "            if test_accuracy>key_score:\n",
    "                optimum_iter=i\n",
    "                key_score=test_accuracy\n",
    "        else:\n",
    "            continue\n",
    "    train_test_frame = pd.DataFrame({\"Test Scores\": test_score,\"Train Scores\":train_score})\n",
    "    #train_test_frame.plot()\n",
    "    Main_frame = pd.DataFrame({\"Iterations\":iterations,\"Test Scores\": test_score,\"Train Scores\":train_score})\n",
    "    plt.plot(iterations,test_score,label=\"Test Scores\")\n",
    "    plt.plot(iterations,train_score,label=\"Train Scores\")\n",
    "    plt.xlabel=\"Iterations\"\n",
    "    plt.ylabel=\"Accuracies\"\n",
    "    print(\"Optimum Score:\",key_score,\"The Iteration Number:\",optimum_iter)\n",
    "    return Main_frame,key_score,optimum_iter"
   ]
  },
  {
   "cell_type": "code",
   "execution_count": 73,
   "id": "39031dce",
   "metadata": {},
   "outputs": [
    {
     "data": {
      "text/plain": [
       "(20000, 500)"
      ]
     },
     "execution_count": 73,
     "metadata": {},
     "output_type": "execute_result"
    }
   ],
   "source": [
    "x_train.shape"
   ]
  },
  {
   "cell_type": "code",
   "execution_count": 74,
   "id": "4f60de98",
   "metadata": {},
   "outputs": [
    {
     "name": "stdout",
     "output_type": "stream",
     "text": [
      "Optimum Score: 0.8346 The Iteration Number: 60\n"
     ]
    },
    {
     "data": {
      "image/png": "[encoded data removed]",
      "text/plain": [
       "<Figure size 432x288 with 1 Axes>"
      ]
     },
     "metadata": {
      "needs_background": "light"
     },
     "output_type": "display_data"
    }
   ],
   "source": [
    "Main_frame,key_score,optimum_iter = optimize_max_iter(50,300)"
   ]
  },
  {
   "cell_type": "code",
   "execution_count": 75,
   "id": "61f0a840",
   "metadata": {},
   "outputs": [
    {
     "data": {
      "text/html": [
       "<div>\n",
       "<style scoped>\n",
       "    .dataframe tbody tr th:only-of-type {\n",
       "        vertical-align: middle;\n",
       "    }\n",
       "\n",
       "    .dataframe tbody tr th {\n",
       "        vertical-align: top;\n",
       "    }\n",
       "\n",
       "    .dataframe thead th {\n",
       "        text-align: right;\n",
       "    }\n",
       "</style>\n",
       "<table border=\"1\" class=\"dataframe\">\n",
       "  <thead>\n",
       "    <tr style=\"text-align: right;\">\n",
       "      <th></th>\n",
       "      <th>Iterations</th>\n",
       "      <th>Test Scores</th>\n",
       "      <th>Train Scores</th>\n",
       "    </tr>\n",
       "  </thead>\n",
       "  <tbody>\n",
       "    <tr>\n",
       "      <th>0</th>\n",
       "      <td>60</td>\n",
       "      <td>0.8346</td>\n",
       "      <td>0.8472</td>\n",
       "    </tr>\n",
       "    <tr>\n",
       "      <th>1</th>\n",
       "      <td>80</td>\n",
       "      <td>0.8346</td>\n",
       "      <td>0.8472</td>\n",
       "    </tr>\n",
       "    <tr>\n",
       "      <th>2</th>\n",
       "      <td>100</td>\n",
       "      <td>0.8346</td>\n",
       "      <td>0.8472</td>\n",
       "    </tr>\n",
       "    <tr>\n",
       "      <th>3</th>\n",
       "      <td>120</td>\n",
       "      <td>0.8346</td>\n",
       "      <td>0.8472</td>\n",
       "    </tr>\n",
       "    <tr>\n",
       "      <th>4</th>\n",
       "      <td>140</td>\n",
       "      <td>0.8346</td>\n",
       "      <td>0.8472</td>\n",
       "    </tr>\n",
       "    <tr>\n",
       "      <th>5</th>\n",
       "      <td>160</td>\n",
       "      <td>0.8346</td>\n",
       "      <td>0.8472</td>\n",
       "    </tr>\n",
       "    <tr>\n",
       "      <th>6</th>\n",
       "      <td>180</td>\n",
       "      <td>0.8346</td>\n",
       "      <td>0.8472</td>\n",
       "    </tr>\n",
       "    <tr>\n",
       "      <th>7</th>\n",
       "      <td>200</td>\n",
       "      <td>0.8346</td>\n",
       "      <td>0.8472</td>\n",
       "    </tr>\n",
       "    <tr>\n",
       "      <th>8</th>\n",
       "      <td>220</td>\n",
       "      <td>0.8346</td>\n",
       "      <td>0.8472</td>\n",
       "    </tr>\n",
       "    <tr>\n",
       "      <th>9</th>\n",
       "      <td>240</td>\n",
       "      <td>0.8346</td>\n",
       "      <td>0.8472</td>\n",
       "    </tr>\n",
       "    <tr>\n",
       "      <th>10</th>\n",
       "      <td>260</td>\n",
       "      <td>0.8346</td>\n",
       "      <td>0.8472</td>\n",
       "    </tr>\n",
       "    <tr>\n",
       "      <th>11</th>\n",
       "      <td>280</td>\n",
       "      <td>0.8346</td>\n",
       "      <td>0.8472</td>\n",
       "    </tr>\n",
       "  </tbody>\n",
       "</table>\n",
       "</div>"
      ],
      "text/plain": [
       "    Iterations  Test Scores  Train Scores\n",
       "0           60       0.8346        0.8472\n",
       "1           80       0.8346        0.8472\n",
       "2          100       0.8346        0.8472\n",
       "3          120       0.8346        0.8472\n",
       "4          140       0.8346        0.8472\n",
       "5          160       0.8346        0.8472\n",
       "6          180       0.8346        0.8472\n",
       "7          200       0.8346        0.8472\n",
       "8          220       0.8346        0.8472\n",
       "9          240       0.8346        0.8472\n",
       "10         260       0.8346        0.8472\n",
       "11         280       0.8346        0.8472"
      ]
     },
     "execution_count": 75,
     "metadata": {},
     "output_type": "execute_result"
    }
   ],
   "source": [
    "Iter_values_frame=Main_frame.sort_values(ascending=True,by=\"Test Scores\")\n",
    "Iter_values_frame"
   ]
  },
  {
   "cell_type": "code",
   "execution_count": 76,
   "id": "6d9cacfc",
   "metadata": {},
   "outputs": [],
   "source": [
    "def optimize_c_values(C_list):\n",
    "    test_score=[]\n",
    "    train_score=[]\n",
    "    C_Values=C_list\n",
    "    optimum_C=0\n",
    "    key_score=0\n",
    "    for i in C_list:\n",
    "        #key=i*1000\n",
    "        #if key%10==0:\n",
    "        logistic_model = LogisticRegression(max_iter=200, C=i)\n",
    "        logistic_model.fit(x_train, y_train)\n",
    "        test_accuracy=logistic_model.score(x_test,y_test)\n",
    "        train_accuracy=logistic_model.score(x_train,y_train)\n",
    "        test_score.append(logistic_model.score(x_test,y_test))\n",
    "        train_score.append(logistic_model.score(x_train,y_train))\n",
    "        #iterations.append(i)\n",
    "        if test_accuracy>key_score:\n",
    "            optimum_C=i\n",
    "            key_score=test_accuracy\n",
    "        else:\n",
    "            continue\n",
    "    train_test_frame = pd.DataFrame({\"Test Scores\": test_score,\"Train Scores\":train_score})\n",
    "    #train_test_frame.plot()\n",
    "    Main_frame = pd.DataFrame({\"C_Values\":C_Values,\"Test Scores\": test_score,\"Train Scores\":train_score})\n",
    "    plt.plot(C_Values,test_score, label=\"Test Scores\")\n",
    "    plt.plot(C_Values,train_score, label=\"Train Scores\")\n",
    "    #plt.xlabel(\"C Values\")\n",
    "    #plt.ylabel(\"Accuracies\")\n",
    "    #train_test_frame.plot()\n",
    "    plt.legend()\n",
    "    plt.show()\n",
    "    print(\"Optimum Score:\",key_score,\"The C Number:\",optimum_C)\n",
    "    return Main_frame,key_score,optimum_C"
   ]
  },
  {
   "cell_type": "code",
   "execution_count": 77,
   "id": "64f9a545",
   "metadata": {},
   "outputs": [],
   "source": [
    "c_values = [100000,1000,100, 10, 1.0, 0.1, 0.01]"
   ]
  },
  {
   "cell_type": "code",
   "execution_count": 78,
   "id": "67c4cb34",
   "metadata": {},
   "outputs": [
    {
     "data": {
      "image/png": "[encoded data removed]",
      "text/plain": [
       "<Figure size 432x288 with 1 Axes>"
      ]
     },
     "metadata": {
      "needs_background": "light"
     },
     "output_type": "display_data"
    },
    {
     "name": "stdout",
     "output_type": "stream",
     "text": [
      "Optimum Score: 0.8354 The C Number: 100000\n"
     ]
    }
   ],
   "source": [
    "Main_frame,key_score,optimum_C = optimize_c_values(c_values)"
   ]
  },
  {
   "cell_type": "code",
   "execution_count": 79,
   "id": "acdd4a1b",
   "metadata": {},
   "outputs": [
    {
     "data": {
      "text/html": [
       "<div>\n",
       "<style scoped>\n",
       "    .dataframe tbody tr th:only-of-type {\n",
       "        vertical-align: middle;\n",
       "    }\n",
       "\n",
       "    .dataframe tbody tr th {\n",
       "        vertical-align: top;\n",
       "    }\n",
       "\n",
       "    .dataframe thead th {\n",
       "        text-align: right;\n",
       "    }\n",
       "</style>\n",
       "<table border=\"1\" class=\"dataframe\">\n",
       "  <thead>\n",
       "    <tr style=\"text-align: right;\">\n",
       "      <th></th>\n",
       "      <th>C_Values</th>\n",
       "      <th>Test Scores</th>\n",
       "      <th>Train Scores</th>\n",
       "    </tr>\n",
       "  </thead>\n",
       "  <tbody>\n",
       "    <tr>\n",
       "      <th>0</th>\n",
       "      <td>100000.00</td>\n",
       "      <td>0.8354</td>\n",
       "      <td>0.84935</td>\n",
       "    </tr>\n",
       "    <tr>\n",
       "      <th>1</th>\n",
       "      <td>1000.00</td>\n",
       "      <td>0.8354</td>\n",
       "      <td>0.84930</td>\n",
       "    </tr>\n",
       "    <tr>\n",
       "      <th>2</th>\n",
       "      <td>100.00</td>\n",
       "      <td>0.8350</td>\n",
       "      <td>0.84935</td>\n",
       "    </tr>\n",
       "    <tr>\n",
       "      <th>3</th>\n",
       "      <td>10.00</td>\n",
       "      <td>0.8348</td>\n",
       "      <td>0.84945</td>\n",
       "    </tr>\n",
       "    <tr>\n",
       "      <th>4</th>\n",
       "      <td>1.00</td>\n",
       "      <td>0.8346</td>\n",
       "      <td>0.84720</td>\n",
       "    </tr>\n",
       "    <tr>\n",
       "      <th>5</th>\n",
       "      <td>0.10</td>\n",
       "      <td>0.8332</td>\n",
       "      <td>0.83590</td>\n",
       "    </tr>\n",
       "    <tr>\n",
       "      <th>6</th>\n",
       "      <td>0.01</td>\n",
       "      <td>0.8102</td>\n",
       "      <td>0.81180</td>\n",
       "    </tr>\n",
       "  </tbody>\n",
       "</table>\n",
       "</div>"
      ],
      "text/plain": [
       "    C_Values  Test Scores  Train Scores\n",
       "0  100000.00       0.8354       0.84935\n",
       "1    1000.00       0.8354       0.84930\n",
       "2     100.00       0.8350       0.84935\n",
       "3      10.00       0.8348       0.84945\n",
       "4       1.00       0.8346       0.84720\n",
       "5       0.10       0.8332       0.83590\n",
       "6       0.01       0.8102       0.81180"
      ]
     },
     "execution_count": 79,
     "metadata": {},
     "output_type": "execute_result"
    }
   ],
   "source": [
    "C_values_frame=Main_frame.sort_values(ascending=False,by=\"Test Scores\")\n",
    "C_values_frame"
   ]
  },
  {
   "cell_type": "code",
   "execution_count": null,
   "id": "57f0bb13",
   "metadata": {},
   "outputs": [],
   "source": []
  },
  {
   "cell_type": "markdown",
   "id": "ec718535",
   "metadata": {},
   "source": [
    "### KNN k Parameter Optmization\n",
    "\n",
    "* To work faster, less data is used.\n",
    "\n",
    "* Choosing a large k value leads to high bias by classifying everything as the more probable class. As a result, we have a smooth decision boundary between the classes, with less emphasis on individual points.\n",
    "\n",
    "* Conversely, small k values cause high variance and an unstable output. Minor changes in the training set cause large changes in classification boundaries. The effect is more visible on intersecting classes:"
   ]
  },
  {
   "cell_type": "code",
   "execution_count": 80,
   "id": "9b4a4616",
   "metadata": {},
   "outputs": [],
   "source": [
    "from sklearn.feature_extraction.text import TfidfVectorizer\n",
    "X = data['review'].iloc[:5000]\n",
    "y = data['sentiment'].iloc[:5000]\n",
    "tfidf = TfidfVectorizer(max_features=500)\n",
    "X = tfidf.fit_transform(X)\n",
    "x_train, x_test, y_train, y_test = train_test_split(X, y, test_size = 0.2, random_state=42)"
   ]
  },
  {
   "cell_type": "code",
   "execution_count": 81,
   "id": "3c6fdd53",
   "metadata": {},
   "outputs": [],
   "source": [
    "def optimize_k_values(upper,lower):\n",
    "    test_score=[]\n",
    "    train_score=[]\n",
    "    k_values=[]\n",
    "    optimum_C=0\n",
    "    key_score=0\n",
    "    for i in range(upper,lower):\n",
    "        key=i\n",
    "        if key%1==0:\n",
    "            knn_model=KNeighborsClassifier(n_neighbors=i)\n",
    "            knn_model.fit(x_train,y_train)\n",
    "            test_accuracy=knn_model.score(x_test,y_test)\n",
    "            train_accuracy=knn_model.score(x_train,y_train)\n",
    "            test_score.append(knn_model.score(x_test,y_test))\n",
    "            train_score.append(knn_model.score(x_train,y_train))\n",
    "            k_values.append(i)\n",
    "            if test_accuracy>key_score:\n",
    "                optimum_k=i\n",
    "                key_score=test_accuracy\n",
    "        else:\n",
    "            continue\n",
    "    train_test_frame = pd.DataFrame({\"Test Scores\": test_score,\"Train Scores\":train_score})\n",
    "    #train_test_frame.plot()\n",
    "    Main_frame = pd.DataFrame({\"k_Values\":k_values,\"Test Scores\": test_score,\"Train Scores\":train_score})\n",
    "    plt.plot(k_values,test_score, label=\"Test Scores\")\n",
    "    plt.plot(k_values,train_score, label=\"Train Scores\")\n",
    "    #plt.xlabel(\"C Values\")\n",
    "    #plt.ylabel(\"Accuracies\")\n",
    "    #train_test_frame.plot()\n",
    "    plt.legend()\n",
    "    plt.show()\n",
    "    print(\"Optimum Score:\",key_score,\"The k Number:\",optimum_k)\n",
    "    return Main_frame,key_score,optimum_k"
   ]
  },
  {
   "cell_type": "code",
   "execution_count": 82,
   "id": "545973ec",
   "metadata": {},
   "outputs": [
    {
     "data": {
      "image/png": "[encoded data removed]",
      "text/plain": [
       "<Figure size 432x288 with 1 Axes>"
      ]
     },
     "metadata": {
      "needs_background": "light"
     },
     "output_type": "display_data"
    },
    {
     "name": "stdout",
     "output_type": "stream",
     "text": [
      "Optimum Score: 0.766 The k Number: 25\n"
     ]
    }
   ],
   "source": [
    "Main_frame,key_score,optimum_k = optimize_k_values(2,40)"
   ]
  },
  {
   "cell_type": "code",
   "execution_count": 83,
   "id": "5ecdd020",
   "metadata": {},
   "outputs": [
    {
     "data": {
      "text/html": [
       "<div>\n",
       "<style scoped>\n",
       "    .dataframe tbody tr th:only-of-type {\n",
       "        vertical-align: middle;\n",
       "    }\n",
       "\n",
       "    .dataframe tbody tr th {\n",
       "        vertical-align: top;\n",
       "    }\n",
       "\n",
       "    .dataframe thead th {\n",
       "        text-align: right;\n",
       "    }\n",
       "</style>\n",
       "<table border=\"1\" class=\"dataframe\">\n",
       "  <thead>\n",
       "    <tr style=\"text-align: right;\">\n",
       "      <th></th>\n",
       "      <th>k_Values</th>\n",
       "      <th>Test Scores</th>\n",
       "      <th>Train Scores</th>\n",
       "    </tr>\n",
       "  </thead>\n",
       "  <tbody>\n",
       "    <tr>\n",
       "      <th>23</th>\n",
       "      <td>25</td>\n",
       "      <td>0.766</td>\n",
       "      <td>0.78800</td>\n",
       "    </tr>\n",
       "    <tr>\n",
       "      <th>29</th>\n",
       "      <td>31</td>\n",
       "      <td>0.761</td>\n",
       "      <td>0.78600</td>\n",
       "    </tr>\n",
       "    <tr>\n",
       "      <th>25</th>\n",
       "      <td>27</td>\n",
       "      <td>0.760</td>\n",
       "      <td>0.79225</td>\n",
       "    </tr>\n",
       "    <tr>\n",
       "      <th>22</th>\n",
       "      <td>24</td>\n",
       "      <td>0.760</td>\n",
       "      <td>0.78625</td>\n",
       "    </tr>\n",
       "    <tr>\n",
       "      <th>34</th>\n",
       "      <td>36</td>\n",
       "      <td>0.760</td>\n",
       "      <td>0.78075</td>\n",
       "    </tr>\n",
       "    <tr>\n",
       "      <th>24</th>\n",
       "      <td>26</td>\n",
       "      <td>0.760</td>\n",
       "      <td>0.78750</td>\n",
       "    </tr>\n",
       "    <tr>\n",
       "      <th>26</th>\n",
       "      <td>28</td>\n",
       "      <td>0.759</td>\n",
       "      <td>0.78675</td>\n",
       "    </tr>\n",
       "    <tr>\n",
       "      <th>32</th>\n",
       "      <td>34</td>\n",
       "      <td>0.758</td>\n",
       "      <td>0.78100</td>\n",
       "    </tr>\n",
       "    <tr>\n",
       "      <th>31</th>\n",
       "      <td>33</td>\n",
       "      <td>0.758</td>\n",
       "      <td>0.78300</td>\n",
       "    </tr>\n",
       "    <tr>\n",
       "      <th>20</th>\n",
       "      <td>22</td>\n",
       "      <td>0.758</td>\n",
       "      <td>0.78625</td>\n",
       "    </tr>\n",
       "    <tr>\n",
       "      <th>27</th>\n",
       "      <td>29</td>\n",
       "      <td>0.757</td>\n",
       "      <td>0.78900</td>\n",
       "    </tr>\n",
       "    <tr>\n",
       "      <th>35</th>\n",
       "      <td>37</td>\n",
       "      <td>0.756</td>\n",
       "      <td>0.78450</td>\n",
       "    </tr>\n",
       "    <tr>\n",
       "      <th>33</th>\n",
       "      <td>35</td>\n",
       "      <td>0.756</td>\n",
       "      <td>0.78075</td>\n",
       "    </tr>\n",
       "    <tr>\n",
       "      <th>21</th>\n",
       "      <td>23</td>\n",
       "      <td>0.755</td>\n",
       "      <td>0.78650</td>\n",
       "    </tr>\n",
       "    <tr>\n",
       "      <th>28</th>\n",
       "      <td>30</td>\n",
       "      <td>0.755</td>\n",
       "      <td>0.78550</td>\n",
       "    </tr>\n",
       "    <tr>\n",
       "      <th>30</th>\n",
       "      <td>32</td>\n",
       "      <td>0.754</td>\n",
       "      <td>0.78575</td>\n",
       "    </tr>\n",
       "    <tr>\n",
       "      <th>36</th>\n",
       "      <td>38</td>\n",
       "      <td>0.753</td>\n",
       "      <td>0.78150</td>\n",
       "    </tr>\n",
       "    <tr>\n",
       "      <th>37</th>\n",
       "      <td>39</td>\n",
       "      <td>0.752</td>\n",
       "      <td>0.78375</td>\n",
       "    </tr>\n",
       "    <tr>\n",
       "      <th>19</th>\n",
       "      <td>21</td>\n",
       "      <td>0.748</td>\n",
       "      <td>0.78675</td>\n",
       "    </tr>\n",
       "    <tr>\n",
       "      <th>18</th>\n",
       "      <td>20</td>\n",
       "      <td>0.747</td>\n",
       "      <td>0.78600</td>\n",
       "    </tr>\n",
       "    <tr>\n",
       "      <th>16</th>\n",
       "      <td>18</td>\n",
       "      <td>0.745</td>\n",
       "      <td>0.77950</td>\n",
       "    </tr>\n",
       "    <tr>\n",
       "      <th>17</th>\n",
       "      <td>19</td>\n",
       "      <td>0.744</td>\n",
       "      <td>0.78875</td>\n",
       "    </tr>\n",
       "    <tr>\n",
       "      <th>15</th>\n",
       "      <td>17</td>\n",
       "      <td>0.742</td>\n",
       "      <td>0.78375</td>\n",
       "    </tr>\n",
       "    <tr>\n",
       "      <th>10</th>\n",
       "      <td>12</td>\n",
       "      <td>0.738</td>\n",
       "      <td>0.78650</td>\n",
       "    </tr>\n",
       "    <tr>\n",
       "      <th>11</th>\n",
       "      <td>13</td>\n",
       "      <td>0.734</td>\n",
       "      <td>0.79225</td>\n",
       "    </tr>\n",
       "    <tr>\n",
       "      <th>14</th>\n",
       "      <td>16</td>\n",
       "      <td>0.733</td>\n",
       "      <td>0.78000</td>\n",
       "    </tr>\n",
       "    <tr>\n",
       "      <th>13</th>\n",
       "      <td>15</td>\n",
       "      <td>0.732</td>\n",
       "      <td>0.78750</td>\n",
       "    </tr>\n",
       "    <tr>\n",
       "      <th>12</th>\n",
       "      <td>14</td>\n",
       "      <td>0.731</td>\n",
       "      <td>0.78875</td>\n",
       "    </tr>\n",
       "    <tr>\n",
       "      <th>9</th>\n",
       "      <td>11</td>\n",
       "      <td>0.730</td>\n",
       "      <td>0.79025</td>\n",
       "    </tr>\n",
       "    <tr>\n",
       "      <th>8</th>\n",
       "      <td>10</td>\n",
       "      <td>0.727</td>\n",
       "      <td>0.78800</td>\n",
       "    </tr>\n",
       "    <tr>\n",
       "      <th>7</th>\n",
       "      <td>9</td>\n",
       "      <td>0.723</td>\n",
       "      <td>0.79675</td>\n",
       "    </tr>\n",
       "    <tr>\n",
       "      <th>5</th>\n",
       "      <td>7</td>\n",
       "      <td>0.718</td>\n",
       "      <td>0.80575</td>\n",
       "    </tr>\n",
       "    <tr>\n",
       "      <th>6</th>\n",
       "      <td>8</td>\n",
       "      <td>0.712</td>\n",
       "      <td>0.78825</td>\n",
       "    </tr>\n",
       "    <tr>\n",
       "      <th>4</th>\n",
       "      <td>6</td>\n",
       "      <td>0.704</td>\n",
       "      <td>0.79775</td>\n",
       "    </tr>\n",
       "    <tr>\n",
       "      <th>3</th>\n",
       "      <td>5</td>\n",
       "      <td>0.695</td>\n",
       "      <td>0.82350</td>\n",
       "    </tr>\n",
       "    <tr>\n",
       "      <th>2</th>\n",
       "      <td>4</td>\n",
       "      <td>0.689</td>\n",
       "      <td>0.80975</td>\n",
       "    </tr>\n",
       "    <tr>\n",
       "      <th>1</th>\n",
       "      <td>3</td>\n",
       "      <td>0.683</td>\n",
       "      <td>0.85225</td>\n",
       "    </tr>\n",
       "    <tr>\n",
       "      <th>0</th>\n",
       "      <td>2</td>\n",
       "      <td>0.643</td>\n",
       "      <td>0.82225</td>\n",
       "    </tr>\n",
       "  </tbody>\n",
       "</table>\n",
       "</div>"
      ],
      "text/plain": [
       "    k_Values  Test Scores  Train Scores\n",
       "23        25        0.766       0.78800\n",
       "29        31        0.761       0.78600\n",
       "25        27        0.760       0.79225\n",
       "22        24        0.760       0.78625\n",
       "34        36        0.760       0.78075\n",
       "24        26        0.760       0.78750\n",
       "26        28        0.759       0.78675\n",
       "32        34        0.758       0.78100\n",
       "31        33        0.758       0.78300\n",
       "20        22        0.758       0.78625\n",
       "27        29        0.757       0.78900\n",
       "35        37        0.756       0.78450\n",
       "33        35        0.756       0.78075\n",
       "21        23        0.755       0.78650\n",
       "28        30        0.755       0.78550\n",
       "30        32        0.754       0.78575\n",
       "36        38        0.753       0.78150\n",
       "37        39        0.752       0.78375\n",
       "19        21        0.748       0.78675\n",
       "18        20        0.747       0.78600\n",
       "16        18        0.745       0.77950\n",
       "17        19        0.744       0.78875\n",
       "15        17        0.742       0.78375\n",
       "10        12        0.738       0.78650\n",
       "11        13        0.734       0.79225\n",
       "14        16        0.733       0.78000\n",
       "13        15        0.732       0.78750\n",
       "12        14        0.731       0.78875\n",
       "9         11        0.730       0.79025\n",
       "8         10        0.727       0.78800\n",
       "7          9        0.723       0.79675\n",
       "5          7        0.718       0.80575\n",
       "6          8        0.712       0.78825\n",
       "4          6        0.704       0.79775\n",
       "3          5        0.695       0.82350\n",
       "2          4        0.689       0.80975\n",
       "1          3        0.683       0.85225\n",
       "0          2        0.643       0.82225"
      ]
     },
     "execution_count": 83,
     "metadata": {},
     "output_type": "execute_result"
    }
   ],
   "source": [
    "k_values_frame=Main_frame.sort_values(ascending=False,by=\"Test Scores\")\n",
    "k_values_frame"
   ]
  },
  {
   "cell_type": "code",
   "execution_count": null,
   "id": "6172ed4c",
   "metadata": {},
   "outputs": [],
   "source": []
  },
  {
   "cell_type": "code",
   "execution_count": null,
   "id": "6372fb46",
   "metadata": {},
   "outputs": [],
   "source": []
  },
  {
   "cell_type": "markdown",
   "id": "217ec8bc",
   "metadata": {},
   "source": [
    "### SVM Hyperparameter Optimization\n",
    "\n",
    "* **Kernels**: The main function of the kernel is to take low dimensional input space and transform it into a higher-dimensional space. It is mostly useful in non-linear separation problem.\n",
    "\n",
    "* **C (Regularisation)**: C is the penalty parameter, inverse of regularization strength; must be a positive float. It represents misclassification or error term. The misclassification or error term tells the SVM optimisation how much error is bearable. This is how you can control the trade-off between decision boundary and misclassification term.\n",
    "\n",
    "* **Gamma**: It defines how far influences the calculation of plausible line of separation. when gamma is higher, nearby points will have high influence; low gamma means far away points also be considered to get the decision boundary.\n",
    "\n",
    "* Tunning Hyperparemeters for SVM is handled with using GridSearch method of Scikit Learn Library. \n",
    "\n",
    "* To work faster, less data is used."
   ]
  },
  {
   "cell_type": "code",
   "execution_count": 84,
   "id": "b326d378",
   "metadata": {},
   "outputs": [],
   "source": [
    "from sklearn.feature_extraction.text import TfidfVectorizer\n",
    "X = data['review'].iloc[:5000]\n",
    "y = data['sentiment'].iloc[:5000]\n",
    "tfidf = TfidfVectorizer(max_features=300)\n",
    "X = tfidf.fit_transform(X)\n",
    "x_train, x_test, y_train, y_test = train_test_split(X, y, test_size = 0.2, random_state=42)"
   ]
  },
  {
   "cell_type": "code",
   "execution_count": 85,
   "id": "43f9f5e7",
   "metadata": {},
   "outputs": [],
   "source": [
    "from sklearn.model_selection import GridSearchCV\n",
    "parameters = {'C': [0.1,1, 10, 100], 'gamma': [1,0.1,0.01,0.001],'kernel': ['rbf', 'poly', 'sigmoid']}"
   ]
  },
  {
   "cell_type": "code",
   "execution_count": 86,
   "id": "757b05b0",
   "metadata": {},
   "outputs": [
    {
     "name": "stdout",
     "output_type": "stream",
     "text": [
      "Fitting 5 folds for each of 48 candidates, totalling 240 fits\n",
      "[CV] END .........................C=0.1, gamma=1, kernel=rbf; total time=   3.0s\n",
      "[CV] END .........................C=0.1, gamma=1, kernel=rbf; total time=   2.7s\n",
      "[CV] END .........................C=0.1, gamma=1, kernel=rbf; total time=   2.7s\n",
      "[CV] END .........................C=0.1, gamma=1, kernel=rbf; total time=   2.8s\n",
      "[CV] END .........................C=0.1, gamma=1, kernel=rbf; total time=   2.8s\n",
      "[CV] END ........................C=0.1, gamma=1, kernel=poly; total time=   2.8s\n",
      "[CV] END ........................C=0.1, gamma=1, kernel=poly; total time=   2.9s\n",
      "[CV] END ........................C=0.1, gamma=1, kernel=poly; total time=   2.8s\n",
      "[CV] END ........................C=0.1, gamma=1, kernel=poly; total time=   2.8s\n",
      "[CV] END ........................C=0.1, gamma=1, kernel=poly; total time=   2.8s\n",
      "[CV] END .....................C=0.1, gamma=1, kernel=sigmoid; total time=   2.3s\n",
      "[CV] END .....................C=0.1, gamma=1, kernel=sigmoid; total time=   2.5s\n",
      "[CV] END .....................C=0.1, gamma=1, kernel=sigmoid; total time=   2.4s\n",
      "[CV] END .....................C=0.1, gamma=1, kernel=sigmoid; total time=   2.5s\n",
      "[CV] END .....................C=0.1, gamma=1, kernel=sigmoid; total time=   2.5s\n",
      "[CV] END .......................C=0.1, gamma=0.1, kernel=rbf; total time=   2.9s\n",
      "[CV] END .......................C=0.1, gamma=0.1, kernel=rbf; total time=   2.9s\n",
      "[CV] END .......................C=0.1, gamma=0.1, kernel=rbf; total time=   2.9s\n",
      "[CV] END .......................C=0.1, gamma=0.1, kernel=rbf; total time=   2.8s\n",
      "[CV] END .......................C=0.1, gamma=0.1, kernel=rbf; total time=   2.9s\n",
      "[CV] END ......................C=0.1, gamma=0.1, kernel=poly; total time=   2.9s\n",
      "[CV] END ......................C=0.1, gamma=0.1, kernel=poly; total time=   2.9s\n",
      "[CV] END ......................C=0.1, gamma=0.1, kernel=poly; total time=   2.9s\n",
      "[CV] END ......................C=0.1, gamma=0.1, kernel=poly; total time=   2.9s\n",
      "[CV] END ......................C=0.1, gamma=0.1, kernel=poly; total time=   2.7s\n",
      "[CV] END ...................C=0.1, gamma=0.1, kernel=sigmoid; total time=   2.9s\n",
      "[CV] END ...................C=0.1, gamma=0.1, kernel=sigmoid; total time=   3.0s\n",
      "[CV] END ...................C=0.1, gamma=0.1, kernel=sigmoid; total time=   2.8s\n",
      "[CV] END ...................C=0.1, gamma=0.1, kernel=sigmoid; total time=   2.9s\n",
      "[CV] END ...................C=0.1, gamma=0.1, kernel=sigmoid; total time=   2.8s\n",
      "[CV] END ......................C=0.1, gamma=0.01, kernel=rbf; total time=   2.9s\n",
      "[CV] END ......................C=0.1, gamma=0.01, kernel=rbf; total time=   2.9s\n",
      "[CV] END ......................C=0.1, gamma=0.01, kernel=rbf; total time=   2.8s\n",
      "[CV] END ......................C=0.1, gamma=0.01, kernel=rbf; total time=   2.8s\n",
      "[CV] END ......................C=0.1, gamma=0.01, kernel=rbf; total time=   2.7s\n",
      "[CV] END .....................C=0.1, gamma=0.01, kernel=poly; total time=   2.7s\n",
      "[CV] END .....................C=0.1, gamma=0.01, kernel=poly; total time=   2.7s\n",
      "[CV] END .....................C=0.1, gamma=0.01, kernel=poly; total time=   2.8s\n",
      "[CV] END .....................C=0.1, gamma=0.01, kernel=poly; total time=   3.0s\n",
      "[CV] END .....................C=0.1, gamma=0.01, kernel=poly; total time=   3.0s\n",
      "[CV] END ..................C=0.1, gamma=0.01, kernel=sigmoid; total time=   3.1s\n",
      "[CV] END ..................C=0.1, gamma=0.01, kernel=sigmoid; total time=   3.2s\n",
      "[CV] END ..................C=0.1, gamma=0.01, kernel=sigmoid; total time=   3.1s\n",
      "[CV] END ..................C=0.1, gamma=0.01, kernel=sigmoid; total time=   3.0s\n",
      "[CV] END ..................C=0.1, gamma=0.01, kernel=sigmoid; total time=   3.1s\n",
      "[CV] END .....................C=0.1, gamma=0.001, kernel=rbf; total time=   3.2s\n",
      "[CV] END .....................C=0.1, gamma=0.001, kernel=rbf; total time=   3.1s\n",
      "[CV] END .....................C=0.1, gamma=0.001, kernel=rbf; total time=   3.1s\n",
      "[CV] END .....................C=0.1, gamma=0.001, kernel=rbf; total time=   3.1s\n",
      "[CV] END .....................C=0.1, gamma=0.001, kernel=rbf; total time=   3.0s\n",
      "[CV] END ....................C=0.1, gamma=0.001, kernel=poly; total time=   3.0s\n",
      "[CV] END ....................C=0.1, gamma=0.001, kernel=poly; total time=   3.1s\n",
      "[CV] END ....................C=0.1, gamma=0.001, kernel=poly; total time=   3.1s\n",
      "[CV] END ....................C=0.1, gamma=0.001, kernel=poly; total time=   3.0s\n",
      "[CV] END ....................C=0.1, gamma=0.001, kernel=poly; total time=   3.1s\n",
      "[CV] END .................C=0.1, gamma=0.001, kernel=sigmoid; total time=   3.2s\n",
      "[CV] END .................C=0.1, gamma=0.001, kernel=sigmoid; total time=   3.1s\n",
      "[CV] END .................C=0.1, gamma=0.001, kernel=sigmoid; total time=   3.1s\n",
      "[CV] END .................C=0.1, gamma=0.001, kernel=sigmoid; total time=   3.0s\n",
      "[CV] END .................C=0.1, gamma=0.001, kernel=sigmoid; total time=   3.1s\n",
      "[CV] END ...........................C=1, gamma=1, kernel=rbf; total time=   2.2s\n",
      "[CV] END ...........................C=1, gamma=1, kernel=rbf; total time=   2.2s\n",
      "[CV] END ...........................C=1, gamma=1, kernel=rbf; total time=   2.2s\n",
      "[CV] END ...........................C=1, gamma=1, kernel=rbf; total time=   2.3s\n",
      "[CV] END ...........................C=1, gamma=1, kernel=rbf; total time=   2.3s\n",
      "[CV] END ..........................C=1, gamma=1, kernel=poly; total time=   3.1s\n",
      "[CV] END ..........................C=1, gamma=1, kernel=poly; total time=   3.0s\n",
      "[CV] END ..........................C=1, gamma=1, kernel=poly; total time=   3.0s\n",
      "[CV] END ..........................C=1, gamma=1, kernel=poly; total time=   3.0s\n",
      "[CV] END ..........................C=1, gamma=1, kernel=poly; total time=   3.0s\n",
      "[CV] END .......................C=1, gamma=1, kernel=sigmoid; total time=   1.9s\n",
      "[CV] END .......................C=1, gamma=1, kernel=sigmoid; total time=   1.8s\n",
      "[CV] END .......................C=1, gamma=1, kernel=sigmoid; total time=   1.8s\n",
      "[CV] END .......................C=1, gamma=1, kernel=sigmoid; total time=   1.8s\n",
      "[CV] END .......................C=1, gamma=1, kernel=sigmoid; total time=   1.7s\n",
      "[CV] END .........................C=1, gamma=0.1, kernel=rbf; total time=   2.1s\n",
      "[CV] END .........................C=1, gamma=0.1, kernel=rbf; total time=   2.2s\n",
      "[CV] END .........................C=1, gamma=0.1, kernel=rbf; total time=   2.3s\n",
      "[CV] END .........................C=1, gamma=0.1, kernel=rbf; total time=   2.3s\n",
      "[CV] END .........................C=1, gamma=0.1, kernel=rbf; total time=   2.3s\n",
      "[CV] END ........................C=1, gamma=0.1, kernel=poly; total time=   3.1s\n",
      "[CV] END ........................C=1, gamma=0.1, kernel=poly; total time=   3.0s\n",
      "[CV] END ........................C=1, gamma=0.1, kernel=poly; total time=   2.9s\n",
      "[CV] END ........................C=1, gamma=0.1, kernel=poly; total time=   3.0s\n",
      "[CV] END ........................C=1, gamma=0.1, kernel=poly; total time=   2.9s\n",
      "[CV] END .....................C=1, gamma=0.1, kernel=sigmoid; total time=   2.5s\n",
      "[CV] END .....................C=1, gamma=0.1, kernel=sigmoid; total time=   2.4s\n",
      "[CV] END .....................C=1, gamma=0.1, kernel=sigmoid; total time=   2.5s\n",
      "[CV] END .....................C=1, gamma=0.1, kernel=sigmoid; total time=   2.6s\n",
      "[CV] END .....................C=1, gamma=0.1, kernel=sigmoid; total time=   2.6s\n",
      "[CV] END ........................C=1, gamma=0.01, kernel=rbf; total time=   3.1s\n",
      "[CV] END ........................C=1, gamma=0.01, kernel=rbf; total time=   3.2s\n",
      "[CV] END ........................C=1, gamma=0.01, kernel=rbf; total time=   3.1s\n",
      "[CV] END ........................C=1, gamma=0.01, kernel=rbf; total time=   3.1s\n",
      "[CV] END ........................C=1, gamma=0.01, kernel=rbf; total time=   3.1s\n",
      "[CV] END .......................C=1, gamma=0.01, kernel=poly; total time=   3.1s\n",
      "[CV] END .......................C=1, gamma=0.01, kernel=poly; total time=   3.1s\n",
      "[CV] END .......................C=1, gamma=0.01, kernel=poly; total time=   3.1s\n",
      "[CV] END .......................C=1, gamma=0.01, kernel=poly; total time=   3.1s\n",
      "[CV] END .......................C=1, gamma=0.01, kernel=poly; total time=   3.2s\n",
      "[CV] END ....................C=1, gamma=0.01, kernel=sigmoid; total time=   3.2s\n"
     ]
    },
    {
     "name": "stdout",
     "output_type": "stream",
     "text": [
      "[CV] END ....................C=1, gamma=0.01, kernel=sigmoid; total time=   3.1s\n",
      "[CV] END ....................C=1, gamma=0.01, kernel=sigmoid; total time=   3.2s\n",
      "[CV] END ....................C=1, gamma=0.01, kernel=sigmoid; total time=   3.2s\n",
      "[CV] END ....................C=1, gamma=0.01, kernel=sigmoid; total time=   3.1s\n",
      "[CV] END .......................C=1, gamma=0.001, kernel=rbf; total time=   3.1s\n",
      "[CV] END .......................C=1, gamma=0.001, kernel=rbf; total time=   3.1s\n",
      "[CV] END .......................C=1, gamma=0.001, kernel=rbf; total time=   3.1s\n",
      "[CV] END .......................C=1, gamma=0.001, kernel=rbf; total time=   3.0s\n",
      "[CV] END .......................C=1, gamma=0.001, kernel=rbf; total time=   3.0s\n",
      "[CV] END ......................C=1, gamma=0.001, kernel=poly; total time=   2.9s\n",
      "[CV] END ......................C=1, gamma=0.001, kernel=poly; total time=   2.9s\n",
      "[CV] END ......................C=1, gamma=0.001, kernel=poly; total time=   3.1s\n",
      "[CV] END ......................C=1, gamma=0.001, kernel=poly; total time=   3.0s\n",
      "[CV] END ......................C=1, gamma=0.001, kernel=poly; total time=   3.1s\n",
      "[CV] END ...................C=1, gamma=0.001, kernel=sigmoid; total time=   3.1s\n",
      "[CV] END ...................C=1, gamma=0.001, kernel=sigmoid; total time=   3.2s\n",
      "[CV] END ...................C=1, gamma=0.001, kernel=sigmoid; total time=   3.2s\n",
      "[CV] END ...................C=1, gamma=0.001, kernel=sigmoid; total time=   3.2s\n",
      "[CV] END ...................C=1, gamma=0.001, kernel=sigmoid; total time=   3.1s\n",
      "[CV] END ..........................C=10, gamma=1, kernel=rbf; total time=   3.0s\n",
      "[CV] END ..........................C=10, gamma=1, kernel=rbf; total time=   3.1s\n",
      "[CV] END ..........................C=10, gamma=1, kernel=rbf; total time=   2.9s\n",
      "[CV] END ..........................C=10, gamma=1, kernel=rbf; total time=   2.8s\n",
      "[CV] END ..........................C=10, gamma=1, kernel=rbf; total time=   2.9s\n",
      "[CV] END .........................C=10, gamma=1, kernel=poly; total time=   3.0s\n",
      "[CV] END .........................C=10, gamma=1, kernel=poly; total time=   3.0s\n",
      "[CV] END .........................C=10, gamma=1, kernel=poly; total time=   3.0s\n",
      "[CV] END .........................C=10, gamma=1, kernel=poly; total time=   2.9s\n",
      "[CV] END .........................C=10, gamma=1, kernel=poly; total time=   2.9s\n",
      "[CV] END ......................C=10, gamma=1, kernel=sigmoid; total time=   1.7s\n",
      "[CV] END ......................C=10, gamma=1, kernel=sigmoid; total time=   1.6s\n",
      "[CV] END ......................C=10, gamma=1, kernel=sigmoid; total time=   1.7s\n",
      "[CV] END ......................C=10, gamma=1, kernel=sigmoid; total time=   1.6s\n",
      "[CV] END ......................C=10, gamma=1, kernel=sigmoid; total time=   1.6s\n",
      "[CV] END ........................C=10, gamma=0.1, kernel=rbf; total time=   1.8s\n",
      "[CV] END ........................C=10, gamma=0.1, kernel=rbf; total time=   1.7s\n",
      "[CV] END ........................C=10, gamma=0.1, kernel=rbf; total time=   1.7s\n",
      "[CV] END ........................C=10, gamma=0.1, kernel=rbf; total time=   1.7s\n",
      "[CV] END ........................C=10, gamma=0.1, kernel=rbf; total time=   1.8s\n",
      "[CV] END .......................C=10, gamma=0.1, kernel=poly; total time=   2.9s\n",
      "[CV] END .......................C=10, gamma=0.1, kernel=poly; total time=   2.8s\n",
      "[CV] END .......................C=10, gamma=0.1, kernel=poly; total time=   2.8s\n",
      "[CV] END .......................C=10, gamma=0.1, kernel=poly; total time=   2.7s\n",
      "[CV] END .......................C=10, gamma=0.1, kernel=poly; total time=   2.7s\n",
      "[CV] END ....................C=10, gamma=0.1, kernel=sigmoid; total time=   1.6s\n",
      "[CV] END ....................C=10, gamma=0.1, kernel=sigmoid; total time=   1.5s\n",
      "[CV] END ....................C=10, gamma=0.1, kernel=sigmoid; total time=   1.6s\n",
      "[CV] END ....................C=10, gamma=0.1, kernel=sigmoid; total time=   1.6s\n",
      "[CV] END ....................C=10, gamma=0.1, kernel=sigmoid; total time=   1.6s\n",
      "[CV] END .......................C=10, gamma=0.01, kernel=rbf; total time=   2.0s\n",
      "[CV] END .......................C=10, gamma=0.01, kernel=rbf; total time=   1.9s\n",
      "[CV] END .......................C=10, gamma=0.01, kernel=rbf; total time=   2.0s\n",
      "[CV] END .......................C=10, gamma=0.01, kernel=rbf; total time=   2.0s\n",
      "[CV] END .......................C=10, gamma=0.01, kernel=rbf; total time=   2.0s\n",
      "[CV] END ......................C=10, gamma=0.01, kernel=poly; total time=   2.7s\n",
      "[CV] END ......................C=10, gamma=0.01, kernel=poly; total time=   2.7s\n",
      "[CV] END ......................C=10, gamma=0.01, kernel=poly; total time=   2.7s\n",
      "[CV] END ......................C=10, gamma=0.01, kernel=poly; total time=   2.7s\n",
      "[CV] END ......................C=10, gamma=0.01, kernel=poly; total time=   2.7s\n",
      "[CV] END ...................C=10, gamma=0.01, kernel=sigmoid; total time=   2.3s\n",
      "[CV] END ...................C=10, gamma=0.01, kernel=sigmoid; total time=   2.2s\n",
      "[CV] END ...................C=10, gamma=0.01, kernel=sigmoid; total time=   2.3s\n",
      "[CV] END ...................C=10, gamma=0.01, kernel=sigmoid; total time=   2.3s\n",
      "[CV] END ...................C=10, gamma=0.01, kernel=sigmoid; total time=   2.3s\n",
      "[CV] END ......................C=10, gamma=0.001, kernel=rbf; total time=   2.9s\n",
      "[CV] END ......................C=10, gamma=0.001, kernel=rbf; total time=   2.9s\n",
      "[CV] END ......................C=10, gamma=0.001, kernel=rbf; total time=   2.9s\n",
      "[CV] END ......................C=10, gamma=0.001, kernel=rbf; total time=   2.8s\n",
      "[CV] END ......................C=10, gamma=0.001, kernel=rbf; total time=   2.7s\n",
      "[CV] END .....................C=10, gamma=0.001, kernel=poly; total time=   2.7s\n",
      "[CV] END .....................C=10, gamma=0.001, kernel=poly; total time=   2.8s\n",
      "[CV] END .....................C=10, gamma=0.001, kernel=poly; total time=   2.8s\n",
      "[CV] END .....................C=10, gamma=0.001, kernel=poly; total time=   2.7s\n",
      "[CV] END .....................C=10, gamma=0.001, kernel=poly; total time=   2.9s\n",
      "[CV] END ..................C=10, gamma=0.001, kernel=sigmoid; total time=   3.1s\n",
      "[CV] END ..................C=10, gamma=0.001, kernel=sigmoid; total time=   3.1s\n",
      "[CV] END ..................C=10, gamma=0.001, kernel=sigmoid; total time=   3.0s\n",
      "[CV] END ..................C=10, gamma=0.001, kernel=sigmoid; total time=   3.1s\n",
      "[CV] END ..................C=10, gamma=0.001, kernel=sigmoid; total time=   3.1s\n",
      "[CV] END .........................C=100, gamma=1, kernel=rbf; total time=   2.9s\n",
      "[CV] END .........................C=100, gamma=1, kernel=rbf; total time=   2.9s\n",
      "[CV] END .........................C=100, gamma=1, kernel=rbf; total time=   2.9s\n",
      "[CV] END .........................C=100, gamma=1, kernel=rbf; total time=   3.1s\n",
      "[CV] END .........................C=100, gamma=1, kernel=rbf; total time=   2.8s\n",
      "[CV] END ........................C=100, gamma=1, kernel=poly; total time=   3.0s\n",
      "[CV] END ........................C=100, gamma=1, kernel=poly; total time=   2.9s\n",
      "[CV] END ........................C=100, gamma=1, kernel=poly; total time=   2.9s\n",
      "[CV] END ........................C=100, gamma=1, kernel=poly; total time=   2.8s\n",
      "[CV] END ........................C=100, gamma=1, kernel=poly; total time=   2.9s\n",
      "[CV] END .....................C=100, gamma=1, kernel=sigmoid; total time=   1.5s\n",
      "[CV] END .....................C=100, gamma=1, kernel=sigmoid; total time=   1.6s\n",
      "[CV] END .....................C=100, gamma=1, kernel=sigmoid; total time=   1.6s\n",
      "[CV] END .....................C=100, gamma=1, kernel=sigmoid; total time=   1.6s\n",
      "[CV] END .....................C=100, gamma=1, kernel=sigmoid; total time=   1.6s\n",
      "[CV] END .......................C=100, gamma=0.1, kernel=rbf; total time=   2.7s\n",
      "[CV] END .......................C=100, gamma=0.1, kernel=rbf; total time=   2.8s\n",
      "[CV] END .......................C=100, gamma=0.1, kernel=rbf; total time=   2.6s\n",
      "[CV] END .......................C=100, gamma=0.1, kernel=rbf; total time=   2.8s\n",
      "[CV] END .......................C=100, gamma=0.1, kernel=rbf; total time=   2.3s\n",
      "[CV] END ......................C=100, gamma=0.1, kernel=poly; total time=   2.9s\n",
      "[CV] END ......................C=100, gamma=0.1, kernel=poly; total time=   2.8s\n",
      "[CV] END ......................C=100, gamma=0.1, kernel=poly; total time=   2.8s\n"
     ]
    },
    {
     "name": "stdout",
     "output_type": "stream",
     "text": [
      "[CV] END ......................C=100, gamma=0.1, kernel=poly; total time=   2.9s\n",
      "[CV] END ......................C=100, gamma=0.1, kernel=poly; total time=   2.8s\n",
      "[CV] END ...................C=100, gamma=0.1, kernel=sigmoid; total time=   1.9s\n",
      "[CV] END ...................C=100, gamma=0.1, kernel=sigmoid; total time=   2.0s\n",
      "[CV] END ...................C=100, gamma=0.1, kernel=sigmoid; total time=   1.8s\n",
      "[CV] END ...................C=100, gamma=0.1, kernel=sigmoid; total time=   1.9s\n",
      "[CV] END ...................C=100, gamma=0.1, kernel=sigmoid; total time=   1.9s\n",
      "[CV] END ......................C=100, gamma=0.01, kernel=rbf; total time=   1.7s\n",
      "[CV] END ......................C=100, gamma=0.01, kernel=rbf; total time=   1.7s\n",
      "[CV] END ......................C=100, gamma=0.01, kernel=rbf; total time=   1.8s\n",
      "[CV] END ......................C=100, gamma=0.01, kernel=rbf; total time=   1.7s\n",
      "[CV] END ......................C=100, gamma=0.01, kernel=rbf; total time=   1.7s\n",
      "[CV] END .....................C=100, gamma=0.01, kernel=poly; total time=   3.0s\n",
      "[CV] END .....................C=100, gamma=0.01, kernel=poly; total time=   2.9s\n",
      "[CV] END .....................C=100, gamma=0.01, kernel=poly; total time=   2.9s\n",
      "[CV] END .....................C=100, gamma=0.01, kernel=poly; total time=   2.9s\n",
      "[CV] END .....................C=100, gamma=0.01, kernel=poly; total time=   2.9s\n",
      "[CV] END ..................C=100, gamma=0.01, kernel=sigmoid; total time=   1.7s\n",
      "[CV] END ..................C=100, gamma=0.01, kernel=sigmoid; total time=   1.6s\n",
      "[CV] END ..................C=100, gamma=0.01, kernel=sigmoid; total time=   1.7s\n",
      "[CV] END ..................C=100, gamma=0.01, kernel=sigmoid; total time=   1.7s\n",
      "[CV] END ..................C=100, gamma=0.01, kernel=sigmoid; total time=   1.7s\n",
      "[CV] END .....................C=100, gamma=0.001, kernel=rbf; total time=   2.1s\n",
      "[CV] END .....................C=100, gamma=0.001, kernel=rbf; total time=   2.1s\n",
      "[CV] END .....................C=100, gamma=0.001, kernel=rbf; total time=   2.1s\n",
      "[CV] END .....................C=100, gamma=0.001, kernel=rbf; total time=   2.1s\n",
      "[CV] END .....................C=100, gamma=0.001, kernel=rbf; total time=   2.2s\n",
      "[CV] END ....................C=100, gamma=0.001, kernel=poly; total time=   2.9s\n",
      "[CV] END ....................C=100, gamma=0.001, kernel=poly; total time=   2.9s\n",
      "[CV] END ....................C=100, gamma=0.001, kernel=poly; total time=   2.9s\n",
      "[CV] END ....................C=100, gamma=0.001, kernel=poly; total time=   2.9s\n",
      "[CV] END ....................C=100, gamma=0.001, kernel=poly; total time=   2.9s\n",
      "[CV] END .................C=100, gamma=0.001, kernel=sigmoid; total time=   2.5s\n",
      "[CV] END .................C=100, gamma=0.001, kernel=sigmoid; total time=   2.3s\n",
      "[CV] END .................C=100, gamma=0.001, kernel=sigmoid; total time=   2.4s\n",
      "[CV] END .................C=100, gamma=0.001, kernel=sigmoid; total time=   2.6s\n",
      "[CV] END .................C=100, gamma=0.001, kernel=sigmoid; total time=   2.5s\n"
     ]
    },
    {
     "data": {
      "text/plain": [
       "GridSearchCV(estimator=SVC(),\n",
       "             param_grid={'C': [0.1, 1, 10, 100], 'gamma': [1, 0.1, 0.01, 0.001],\n",
       "                         'kernel': ['rbf', 'poly', 'sigmoid']},\n",
       "             verbose=2)"
      ]
     },
     "execution_count": 86,
     "metadata": {},
     "output_type": "execute_result"
    }
   ],
   "source": [
    "#from sklearn.svm import SVC\n",
    "grid = GridSearchCV(clf,parameters,refit=True,verbose=2)\n",
    "grid.fit(x_train,y_train)"
   ]
  },
  {
   "cell_type": "code",
   "execution_count": 87,
   "id": "a5a5fbc5",
   "metadata": {},
   "outputs": [
    {
     "name": "stdout",
     "output_type": "stream",
     "text": [
      "SVC(C=1, gamma=1)\n"
     ]
    }
   ],
   "source": [
    "print(grid.best_estimator_)"
   ]
  },
  {
   "cell_type": "markdown",
   "id": "dbdb05a5",
   "metadata": {},
   "source": [
    "### Results After HyperParameter Optimization"
   ]
  },
  {
   "cell_type": "code",
   "execution_count": 88,
   "id": "d0d7b309",
   "metadata": {},
   "outputs": [],
   "source": [
    "vectorizer = TfidfVectorizer(max_features=5000) # for default Unable to allocate 77.6 GiB for an array with shape (50000, 208350) and data type float64\n",
    "reviews = list(data['review'])                  # so set max_feature \n",
    "labels = data['sentiment']\n",
    "\n",
    "tfidf_reviews = vectorizer.fit_transform(reviews)"
   ]
  },
  {
   "cell_type": "code",
   "execution_count": 89,
   "id": "e2a2e938",
   "metadata": {},
   "outputs": [
    {
     "name": "stdout",
     "output_type": "stream",
     "text": [
      "Shape of the array: (50000, 5000)\n"
     ]
    }
   ],
   "source": [
    "tfidf_array = tfidf_reviews.toarray()\n",
    "print(\"Shape of the array:\",tfidf_array.shape)"
   ]
  },
  {
   "cell_type": "code",
   "execution_count": 90,
   "id": "0dc8949c",
   "metadata": {},
   "outputs": [],
   "source": [
    "from sklearn.decomposition import PCA\n",
    "NUM_COMPONENTS = 300\n",
    "pca = PCA(NUM_COMPONENTS)\n",
    "reduced = pca.fit_transform(tfidf_array)"
   ]
  },
  {
   "cell_type": "code",
   "execution_count": 91,
   "id": "d8e3f923",
   "metadata": {},
   "outputs": [],
   "source": [
    "x_train, x_test, y_train, y_test = train_test_split(reduced, labels, test_size = 0.2, random_state=42)"
   ]
  },
  {
   "cell_type": "code",
   "execution_count": 92,
   "id": "1acd24d4",
   "metadata": {},
   "outputs": [
    {
     "data": {
      "text/plain": [
       "(0.871, 0.8744)"
      ]
     },
     "execution_count": 92,
     "metadata": {},
     "output_type": "execute_result"
    }
   ],
   "source": [
    "logistic_model = LogisticRegression(max_iter=200,C=10)\n",
    "logistic_model.fit(x_train, y_train)\n",
    "logistic_model.score(x_test,y_test),logistic_model.score(x_train,y_train)"
   ]
  },
  {
   "cell_type": "code",
   "execution_count": 93,
   "id": "b1b79922",
   "metadata": {},
   "outputs": [
    {
     "data": {
      "text/plain": [
       "(0.7503, 0.787425)"
      ]
     },
     "execution_count": 93,
     "metadata": {},
     "output_type": "execute_result"
    }
   ],
   "source": [
    "knn=KNeighborsClassifier(n_neighbors=25)\n",
    "knn.fit(x_train,y_train)\n",
    "#y_pred=knn.predict(x_test)\n",
    "#confusion_matrix(y_test,y_pred)\n",
    "knn.score(x_test,y_test), knn.score(x_train,y_train)"
   ]
  },
  {
   "cell_type": "code",
   "execution_count": 94,
   "id": "a555d312",
   "metadata": {},
   "outputs": [
    {
     "data": {
      "text/plain": [
       "(0.8738, 0.890675)"
      ]
     },
     "execution_count": 94,
     "metadata": {},
     "output_type": "execute_result"
    }
   ],
   "source": [
    "from sklearn import svm\n",
    "\n",
    "\n",
    "clf = svm.SVC(C=1,gamma=1)\n",
    "clf.fit(x_train, y_train)\n",
    "#y_pred = clf.predict(x_test)\n",
    "#confusion_matrix(y_test,y_pred)\n",
    "clf.score(x_test,y_test), clf.score(x_train,y_train)"
   ]
  },
  {
   "cell_type": "code",
   "execution_count": null,
   "id": "ec883071",
   "metadata": {},
   "outputs": [],
   "source": []
  },
  {
   "cell_type": "code",
   "execution_count": null,
   "id": "96cd88a1",
   "metadata": {},
   "outputs": [],
   "source": []
  },
  {
   "cell_type": "markdown",
   "id": "d008666f",
   "metadata": {},
   "source": [
    "### Logistic Regression With Hand Coded Model Implementation"
   ]
  },
  {
   "cell_type": "markdown",
   "id": "c0c6188b",
   "metadata": {},
   "source": [
    "### What the Logistic Model will do step by step?\n",
    "\n",
    "#####  PART 1\n",
    "\n",
    "* 1)First initialize parameters, weights and bias.\n",
    "* 2)Do matrix multiplication with x_train, meaning multiply each feature with an initialized weight and add bias term\n",
    "\n",
    "* 3) Put all matrix multiplication values ( values should be equal to number of review so each review has an valu of matrix multiplication.) into sigmoid function. Sigmoid function gives probablistic value. If values > 0.5 then it says positive, lower than < 0.5 says negative.\n",
    "\n",
    "* 4) Compare with true y_train values and find the cost using loss function.\n",
    "\n",
    "##### PART 2 \n",
    "\n",
    "* 5) Update weight and bias so that the costs will decrease. \n",
    "\n",
    "* 6) Updating parameters part need so much work, defining loss function, finding derivative, determining learning rate, iterations etc..\n",
    "\n",
    "* 7) Do this 5 steps with a specified number of iterations.\n"
   ]
  },
  {
   "cell_type": "markdown",
   "id": "dff217fa",
   "metadata": {},
   "source": [
    "#### PART 1 is the Forward Propagation in general.\n",
    "\n",
    "* z = (w.T)x_train + b => in this equation we know x that is reivew array, we know w (weights) and b (bias. \n",
    "* Then we put z into sigmoid function that returns y_head(probability). \n",
    "* Then we calculate loss(error) function. \n",
    "* Cost function is summation of all loss(error)."
   ]
  },
  {
   "cell_type": "code",
   "execution_count": 95,
   "id": "1af39cee",
   "metadata": {},
   "outputs": [],
   "source": [
    "X = data['review'].iloc[:3000]\n",
    "y = data['sentiment'].iloc[:3000]"
   ]
  },
  {
   "cell_type": "code",
   "execution_count": 97,
   "id": "28717d58",
   "metadata": {},
   "outputs": [],
   "source": [
    "#y"
   ]
  },
  {
   "cell_type": "code",
   "execution_count": 98,
   "id": "048b9ac2",
   "metadata": {},
   "outputs": [],
   "source": [
    "\n",
    "from sklearn.feature_extraction.text import CountVectorizer\n",
    " \n",
    "\n",
    "\n",
    "vectorizer = CountVectorizer()\n",
    " \n",
    "vectorizer.fit(X)\n",
    "X = vectorizer.transform(X)"
   ]
  },
  {
   "cell_type": "code",
   "execution_count": 99,
   "id": "1e176704",
   "metadata": {},
   "outputs": [
    {
     "data": {
      "text/plain": [
       "(3000,)"
      ]
     },
     "execution_count": 99,
     "metadata": {},
     "output_type": "execute_result"
    }
   ],
   "source": [
    "y=y.to_numpy()\n",
    "y.shape"
   ]
  },
  {
   "cell_type": "code",
   "execution_count": 100,
   "id": "f165ad07",
   "metadata": {},
   "outputs": [
    {
     "data": {
      "text/html": [
       "<div>\n",
       "<style scoped>\n",
       "    .dataframe tbody tr th:only-of-type {\n",
       "        vertical-align: middle;\n",
       "    }\n",
       "\n",
       "    .dataframe tbody tr th {\n",
       "        vertical-align: top;\n",
       "    }\n",
       "\n",
       "    .dataframe thead th {\n",
       "        text-align: right;\n",
       "    }\n",
       "</style>\n",
       "<table border=\"1\" class=\"dataframe\">\n",
       "  <thead>\n",
       "    <tr style=\"text-align: right;\">\n",
       "      <th></th>\n",
       "      <th>0</th>\n",
       "      <th>1</th>\n",
       "      <th>2</th>\n",
       "      <th>3</th>\n",
       "      <th>4</th>\n",
       "      <th>5</th>\n",
       "      <th>6</th>\n",
       "      <th>7</th>\n",
       "      <th>8</th>\n",
       "      <th>9</th>\n",
       "      <th>...</th>\n",
       "      <th>36509</th>\n",
       "      <th>36510</th>\n",
       "      <th>36511</th>\n",
       "      <th>36512</th>\n",
       "      <th>36513</th>\n",
       "      <th>36514</th>\n",
       "      <th>36515</th>\n",
       "      <th>36516</th>\n",
       "      <th>36517</th>\n",
       "      <th>36518</th>\n",
       "    </tr>\n",
       "  </thead>\n",
       "  <tbody>\n",
       "    <tr>\n",
       "      <th>0</th>\n",
       "      <td>0</td>\n",
       "      <td>0</td>\n",
       "      <td>0</td>\n",
       "      <td>0</td>\n",
       "      <td>0</td>\n",
       "      <td>0</td>\n",
       "      <td>0</td>\n",
       "      <td>0</td>\n",
       "      <td>0</td>\n",
       "      <td>0</td>\n",
       "      <td>...</td>\n",
       "      <td>0</td>\n",
       "      <td>0</td>\n",
       "      <td>0</td>\n",
       "      <td>0</td>\n",
       "      <td>0</td>\n",
       "      <td>0</td>\n",
       "      <td>0</td>\n",
       "      <td>0</td>\n",
       "      <td>0</td>\n",
       "      <td>0</td>\n",
       "    </tr>\n",
       "    <tr>\n",
       "      <th>1</th>\n",
       "      <td>0</td>\n",
       "      <td>0</td>\n",
       "      <td>0</td>\n",
       "      <td>0</td>\n",
       "      <td>0</td>\n",
       "      <td>0</td>\n",
       "      <td>0</td>\n",
       "      <td>0</td>\n",
       "      <td>0</td>\n",
       "      <td>0</td>\n",
       "      <td>...</td>\n",
       "      <td>0</td>\n",
       "      <td>0</td>\n",
       "      <td>0</td>\n",
       "      <td>0</td>\n",
       "      <td>0</td>\n",
       "      <td>0</td>\n",
       "      <td>0</td>\n",
       "      <td>0</td>\n",
       "      <td>0</td>\n",
       "      <td>0</td>\n",
       "    </tr>\n",
       "    <tr>\n",
       "      <th>2</th>\n",
       "      <td>0</td>\n",
       "      <td>0</td>\n",
       "      <td>0</td>\n",
       "      <td>0</td>\n",
       "      <td>0</td>\n",
       "      <td>0</td>\n",
       "      <td>0</td>\n",
       "      <td>0</td>\n",
       "      <td>0</td>\n",
       "      <td>0</td>\n",
       "      <td>...</td>\n",
       "      <td>0</td>\n",
       "      <td>0</td>\n",
       "      <td>0</td>\n",
       "      <td>0</td>\n",
       "      <td>0</td>\n",
       "      <td>0</td>\n",
       "      <td>0</td>\n",
       "      <td>0</td>\n",
       "      <td>0</td>\n",
       "      <td>0</td>\n",
       "    </tr>\n",
       "    <tr>\n",
       "      <th>3</th>\n",
       "      <td>0</td>\n",
       "      <td>0</td>\n",
       "      <td>0</td>\n",
       "      <td>0</td>\n",
       "      <td>0</td>\n",
       "      <td>0</td>\n",
       "      <td>0</td>\n",
       "      <td>0</td>\n",
       "      <td>0</td>\n",
       "      <td>0</td>\n",
       "      <td>...</td>\n",
       "      <td>0</td>\n",
       "      <td>0</td>\n",
       "      <td>0</td>\n",
       "      <td>0</td>\n",
       "      <td>0</td>\n",
       "      <td>0</td>\n",
       "      <td>0</td>\n",
       "      <td>0</td>\n",
       "      <td>0</td>\n",
       "      <td>0</td>\n",
       "    </tr>\n",
       "    <tr>\n",
       "      <th>4</th>\n",
       "      <td>0</td>\n",
       "      <td>0</td>\n",
       "      <td>0</td>\n",
       "      <td>0</td>\n",
       "      <td>0</td>\n",
       "      <td>0</td>\n",
       "      <td>0</td>\n",
       "      <td>0</td>\n",
       "      <td>0</td>\n",
       "      <td>0</td>\n",
       "      <td>...</td>\n",
       "      <td>0</td>\n",
       "      <td>0</td>\n",
       "      <td>0</td>\n",
       "      <td>0</td>\n",
       "      <td>0</td>\n",
       "      <td>0</td>\n",
       "      <td>0</td>\n",
       "      <td>0</td>\n",
       "      <td>0</td>\n",
       "      <td>0</td>\n",
       "    </tr>\n",
       "    <tr>\n",
       "      <th>...</th>\n",
       "      <td>...</td>\n",
       "      <td>...</td>\n",
       "      <td>...</td>\n",
       "      <td>...</td>\n",
       "      <td>...</td>\n",
       "      <td>...</td>\n",
       "      <td>...</td>\n",
       "      <td>...</td>\n",
       "      <td>...</td>\n",
       "      <td>...</td>\n",
       "      <td>...</td>\n",
       "      <td>...</td>\n",
       "      <td>...</td>\n",
       "      <td>...</td>\n",
       "      <td>...</td>\n",
       "      <td>...</td>\n",
       "      <td>...</td>\n",
       "      <td>...</td>\n",
       "      <td>...</td>\n",
       "      <td>...</td>\n",
       "      <td>...</td>\n",
       "    </tr>\n",
       "    <tr>\n",
       "      <th>2995</th>\n",
       "      <td>0</td>\n",
       "      <td>0</td>\n",
       "      <td>0</td>\n",
       "      <td>0</td>\n",
       "      <td>0</td>\n",
       "      <td>0</td>\n",
       "      <td>0</td>\n",
       "      <td>0</td>\n",
       "      <td>0</td>\n",
       "      <td>0</td>\n",
       "      <td>...</td>\n",
       "      <td>0</td>\n",
       "      <td>0</td>\n",
       "      <td>0</td>\n",
       "      <td>0</td>\n",
       "      <td>0</td>\n",
       "      <td>0</td>\n",
       "      <td>0</td>\n",
       "      <td>0</td>\n",
       "      <td>0</td>\n",
       "      <td>0</td>\n",
       "    </tr>\n",
       "    <tr>\n",
       "      <th>2996</th>\n",
       "      <td>0</td>\n",
       "      <td>0</td>\n",
       "      <td>0</td>\n",
       "      <td>0</td>\n",
       "      <td>0</td>\n",
       "      <td>0</td>\n",
       "      <td>0</td>\n",
       "      <td>0</td>\n",
       "      <td>0</td>\n",
       "      <td>0</td>\n",
       "      <td>...</td>\n",
       "      <td>0</td>\n",
       "      <td>0</td>\n",
       "      <td>0</td>\n",
       "      <td>0</td>\n",
       "      <td>0</td>\n",
       "      <td>0</td>\n",
       "      <td>0</td>\n",
       "      <td>0</td>\n",
       "      <td>0</td>\n",
       "      <td>0</td>\n",
       "    </tr>\n",
       "    <tr>\n",
       "      <th>2997</th>\n",
       "      <td>0</td>\n",
       "      <td>0</td>\n",
       "      <td>0</td>\n",
       "      <td>0</td>\n",
       "      <td>0</td>\n",
       "      <td>0</td>\n",
       "      <td>0</td>\n",
       "      <td>0</td>\n",
       "      <td>0</td>\n",
       "      <td>0</td>\n",
       "      <td>...</td>\n",
       "      <td>0</td>\n",
       "      <td>0</td>\n",
       "      <td>0</td>\n",
       "      <td>0</td>\n",
       "      <td>0</td>\n",
       "      <td>0</td>\n",
       "      <td>0</td>\n",
       "      <td>0</td>\n",
       "      <td>0</td>\n",
       "      <td>0</td>\n",
       "    </tr>\n",
       "    <tr>\n",
       "      <th>2998</th>\n",
       "      <td>0</td>\n",
       "      <td>0</td>\n",
       "      <td>0</td>\n",
       "      <td>0</td>\n",
       "      <td>0</td>\n",
       "      <td>0</td>\n",
       "      <td>0</td>\n",
       "      <td>0</td>\n",
       "      <td>0</td>\n",
       "      <td>0</td>\n",
       "      <td>...</td>\n",
       "      <td>0</td>\n",
       "      <td>0</td>\n",
       "      <td>0</td>\n",
       "      <td>0</td>\n",
       "      <td>0</td>\n",
       "      <td>0</td>\n",
       "      <td>0</td>\n",
       "      <td>0</td>\n",
       "      <td>0</td>\n",
       "      <td>0</td>\n",
       "    </tr>\n",
       "    <tr>\n",
       "      <th>2999</th>\n",
       "      <td>0</td>\n",
       "      <td>0</td>\n",
       "      <td>0</td>\n",
       "      <td>0</td>\n",
       "      <td>0</td>\n",
       "      <td>0</td>\n",
       "      <td>0</td>\n",
       "      <td>0</td>\n",
       "      <td>0</td>\n",
       "      <td>0</td>\n",
       "      <td>...</td>\n",
       "      <td>0</td>\n",
       "      <td>0</td>\n",
       "      <td>0</td>\n",
       "      <td>0</td>\n",
       "      <td>0</td>\n",
       "      <td>0</td>\n",
       "      <td>0</td>\n",
       "      <td>0</td>\n",
       "      <td>0</td>\n",
       "      <td>0</td>\n",
       "    </tr>\n",
       "  </tbody>\n",
       "</table>\n",
       "<p>3000 rows × 36519 columns</p>\n",
       "</div>"
      ],
      "text/plain": [
       "      0      1      2      3      4      5      6      7      8      9      \\\n",
       "0         0      0      0      0      0      0      0      0      0      0   \n",
       "1         0      0      0      0      0      0      0      0      0      0   \n",
       "2         0      0      0      0      0      0      0      0      0      0   \n",
       "3         0      0      0      0      0      0      0      0      0      0   \n",
       "4         0      0      0      0      0      0      0      0      0      0   \n",
       "...     ...    ...    ...    ...    ...    ...    ...    ...    ...    ...   \n",
       "2995      0      0      0      0      0      0      0      0      0      0   \n",
       "2996      0      0      0      0      0      0      0      0      0      0   \n",
       "2997      0      0      0      0      0      0      0      0      0      0   \n",
       "2998      0      0      0      0      0      0      0      0      0      0   \n",
       "2999      0      0      0      0      0      0      0      0      0      0   \n",
       "\n",
       "      ...  36509  36510  36511  36512  36513  36514  36515  36516  36517  \\\n",
       "0     ...      0      0      0      0      0      0      0      0      0   \n",
       "1     ...      0      0      0      0      0      0      0      0      0   \n",
       "2     ...      0      0      0      0      0      0      0      0      0   \n",
       "3     ...      0      0      0      0      0      0      0      0      0   \n",
       "4     ...      0      0      0      0      0      0      0      0      0   \n",
       "...   ...    ...    ...    ...    ...    ...    ...    ...    ...    ...   \n",
       "2995  ...      0      0      0      0      0      0      0      0      0   \n",
       "2996  ...      0      0      0      0      0      0      0      0      0   \n",
       "2997  ...      0      0      0      0      0      0      0      0      0   \n",
       "2998  ...      0      0      0      0      0      0      0      0      0   \n",
       "2999  ...      0      0      0      0      0      0      0      0      0   \n",
       "\n",
       "      36518  \n",
       "0         0  \n",
       "1         0  \n",
       "2         0  \n",
       "3         0  \n",
       "4         0  \n",
       "...     ...  \n",
       "2995      0  \n",
       "2996      0  \n",
       "2997      0  \n",
       "2998      0  \n",
       "2999      0  \n",
       "\n",
       "[3000 rows x 36519 columns]"
      ]
     },
     "execution_count": 100,
     "metadata": {},
     "output_type": "execute_result"
    }
   ],
   "source": [
    "X_frame=pd.DataFrame.sparse.from_spmatrix(X)\n",
    "X_frame"
   ]
  },
  {
   "cell_type": "code",
   "execution_count": 101,
   "id": "d994d4f0",
   "metadata": {},
   "outputs": [],
   "source": [
    "X = X_frame.to_numpy()"
   ]
  },
  {
   "cell_type": "code",
   "execution_count": 102,
   "id": "c3174d43",
   "metadata": {},
   "outputs": [],
   "source": [
    "x_train, x_test, y_train, y_test = train_test_split(X, y, test_size = 0.2, random_state=42)"
   ]
  },
  {
   "cell_type": "code",
   "execution_count": 103,
   "id": "e4dd842a",
   "metadata": {},
   "outputs": [
    {
     "data": {
      "text/plain": [
       "(2400, 36519)"
      ]
     },
     "execution_count": 103,
     "metadata": {},
     "output_type": "execute_result"
    }
   ],
   "source": [
    "x_train.shape"
   ]
  },
  {
   "cell_type": "code",
   "execution_count": 104,
   "id": "26f5f6bc",
   "metadata": {},
   "outputs": [],
   "source": [
    "y_train = y_train.reshape(y_train.shape[0],1)\n",
    "y_test = y_test.reshape(y_test.shape[0],1)"
   ]
  },
  {
   "cell_type": "code",
   "execution_count": 105,
   "id": "f7e5cad0",
   "metadata": {},
   "outputs": [
    {
     "data": {
      "text/plain": [
       "((1, 2400), (1, 600), (36519, 2400), (36519, 600))"
      ]
     },
     "execution_count": 105,
     "metadata": {},
     "output_type": "execute_result"
    }
   ],
   "source": [
    "# to be with same dimensions in the following functions.\n",
    "x_train = x_train.T\n",
    "x_test = x_test.T\n",
    "y_train = y_train.T\n",
    "y_test = y_test.T\n",
    "y_train.shape,y_test.shape,x_train.shape,x_test.shape"
   ]
  },
  {
   "cell_type": "code",
   "execution_count": null,
   "id": "4a5591f2",
   "metadata": {},
   "outputs": [],
   "source": []
  },
  {
   "cell_type": "code",
   "execution_count": null,
   "id": "592373d2",
   "metadata": {},
   "outputs": [],
   "source": []
  },
  {
   "cell_type": "code",
   "execution_count": null,
   "id": "556183b1",
   "metadata": {},
   "outputs": [],
   "source": []
  },
  {
   "cell_type": "code",
   "execution_count": 106,
   "id": "5ff35d58",
   "metadata": {},
   "outputs": [],
   "source": [
    "def initialize_weight_and_bias(dimension):\n",
    "    #dimension is the number of features. We need the same number of weights as the features are.\n",
    "    w = np.full((dimension,1),0.01)\n",
    "    b=0.0\n",
    "    return w,b"
   ]
  },
  {
   "cell_type": "code",
   "execution_count": 107,
   "id": "081ac97b",
   "metadata": {},
   "outputs": [],
   "source": [
    "def sigmoid(z):\n",
    "    y_head = 1/(1+np.exp(-z))\n",
    "    return y_head"
   ]
  },
  {
   "cell_type": "code",
   "execution_count": 108,
   "id": "f1ca1664",
   "metadata": {},
   "outputs": [],
   "source": [
    "def loss_cost(y_head,y_train):\n",
    "    loss = -y_train*np.log(y_head)-(1-y_train)*np.log(1-y_head)\n",
    "    cost = (np.sum(loss))/x_train.shape[1]      # x_train.shape[1]  is for scaling\n",
    "    return cost "
   ]
  },
  {
   "cell_type": "code",
   "execution_count": 109,
   "id": "9b614a48",
   "metadata": {},
   "outputs": [],
   "source": [
    "def forward_propagate(w,b,x_train,y_train):\n",
    "    z = np.dot(w.T,x_train)+b\n",
    "    y_head = sigmoid(z)\n",
    "    cost = loss_cost(y_head,y_train)\n",
    "    return cost,y_head,z"
   ]
  },
  {
   "cell_type": "code",
   "execution_count": 110,
   "id": "4aac7d29",
   "metadata": {},
   "outputs": [],
   "source": [
    "def calculate_gradients_after_forward(w,b,x_train,y_train):# BACKWARD PROPAGATION\n",
    "    cost,y_head,z = forward_propagate(w,b,x_train,y_train)\n",
    "    \n",
    "    derivative_weight = (np.dot(x_train,((y_head-y_train).T)))/x_train.shape[1] # x_train.shape[1]  is for scaling\n",
    "    derivative_bias = np.sum(y_head-y_train)/x_train.shape[1]                 # x_train.shape[1]  is for scaling\n",
    "    gradients = {\"derivative_weight\": derivative_weight,\"derivative_bias\": derivative_bias}\n",
    "    return cost,gradients"
   ]
  },
  {
   "cell_type": "code",
   "execution_count": 111,
   "id": "4069edb4",
   "metadata": {},
   "outputs": [],
   "source": [
    "def update_wegihts_bias(w,b,x_train,y_train,learning_rate):\n",
    "    cost,gradients=calculate_gradients_after_forward(w,b,x_train,y_train)\n",
    "    # lets update\n",
    "    w = w - learning_rate * gradients[\"derivative_weight\"]\n",
    "    b = b - learning_rate * gradients[\"derivative_bias\"]\n",
    "    return w,b,cost"
   ]
  },
  {
   "cell_type": "code",
   "execution_count": 115,
   "id": "e7bb9c60",
   "metadata": {},
   "outputs": [],
   "source": [
    "def do_recursively(w,b,x_train,y_train,learning_rate,num_of_iteration):\n",
    "    cost_list=[]\n",
    "    cost_list2=[]\n",
    "    index = []\n",
    "    for i in range(num_of_iteration):\n",
    "        w,b,cost = update_wegihts_bias(w,b,x_train,y_train,learning_rate)\n",
    "        cost_list.append(cost)\n",
    "        if i % 10 == 0:\n",
    "            cost_list2.append(cost)\n",
    "            index.append(i)\n",
    "            print (\"Cost after iteration %i: %f\" %(i, cost))\n",
    "    \n",
    "    parameters = {\"weight\": w,\"bias\": b}\n",
    "    plt.plot(index,cost_list2)\n",
    "    plt.xticks(index,rotation='vertical')\n",
    "    #plt.xlabel(\"Number of Iteration\")\n",
    "    #plt.ylabel(\"Cost\")\n",
    "    plt.show()\n",
    "    return parameters,cost_list"
   ]
  },
  {
   "cell_type": "code",
   "execution_count": 113,
   "id": "13304601",
   "metadata": {},
   "outputs": [],
   "source": [
    " # prediction\n",
    "def predict(w,b,x_test):\n",
    "    \n",
    "    z = sigmoid(np.dot(w.T,x_test)+b)\n",
    "    Y_prediction = np.zeros((1,x_test.shape[1]))\n",
    "   \n",
    "    for i in range(z.shape[1]):\n",
    "        if z[0,i]<= 0.5:\n",
    "            Y_prediction[0,i] = 0\n",
    "        else:\n",
    "            Y_prediction[0,i] = 1\n",
    "\n",
    "    return Y_prediction\n"
   ]
  },
  {
   "cell_type": "code",
   "execution_count": 116,
   "id": "e9b2bac1",
   "metadata": {},
   "outputs": [
    {
     "name": "stdout",
     "output_type": "stream",
     "text": [
      "Cost after iteration 0: 0.886342\n",
      "Cost after iteration 10: 0.619592\n",
      "Cost after iteration 20: 0.569981\n",
      "Cost after iteration 30: 0.533491\n",
      "Cost after iteration 40: 0.504976\n",
      "Cost after iteration 50: 0.481695\n",
      "Cost after iteration 60: 0.462077\n",
      "Cost after iteration 70: 0.445153\n",
      "Cost after iteration 80: 0.430288\n",
      "Cost after iteration 90: 0.417045\n",
      "Cost after iteration 100: 0.405111\n",
      "Cost after iteration 110: 0.394258\n",
      "Cost after iteration 120: 0.384309\n",
      "Cost after iteration 130: 0.375129\n",
      "Cost after iteration 140: 0.366611\n",
      "Cost after iteration 150: 0.358670\n",
      "Cost after iteration 160: 0.351235\n",
      "Cost after iteration 170: 0.344248\n",
      "Cost after iteration 180: 0.337661\n",
      "Cost after iteration 190: 0.331433\n"
     ]
    },
    {
     "data": {
      "image/png": "[encoded data removed]",
      "text/plain": [
       "<Figure size 432x288 with 1 Axes>"
      ]
     },
     "metadata": {
      "needs_background": "light"
     },
     "output_type": "display_data"
    },
    {
     "name": "stdout",
     "output_type": "stream",
     "text": [
      "train accuracy: 91.33333333333333 %\n",
      "test accuracy: 81.0 %\n"
     ]
    }
   ],
   "source": [
    "def logistic_regression(x_train, y_train, x_test, y_test, learning_rate, num_iterations):\n",
    "    \n",
    "    dimension =  x_train.shape[0]  # that is 19000\n",
    "    w,b = initialize_weight_and_bias(dimension) #initialize_weights_and_bias(dimension)\n",
    "    \n",
    "    parameters, cost_list = do_recursively(w, b, x_train, y_train, learning_rate,num_iterations)\n",
    "    \n",
    "    y_prediction_test = predict(parameters[\"weight\"],parameters[\"bias\"],x_test)\n",
    "    y_prediction_train = predict(parameters[\"weight\"],parameters[\"bias\"],x_train)\n",
    "\n",
    "    \n",
    "    print(\"train accuracy: {} %\".format(100 - np.mean(np.abs(y_prediction_train - y_train)) * 100))\n",
    "    print(\"test accuracy: {} %\".format(100 - np.mean(np.abs(y_prediction_test - y_test)) * 100))\n",
    "    \n",
    "logistic_regression(x_train, y_train, x_test, y_test,learning_rate = 0.1, num_iterations = 200)"
   ]
  },
  {
   "cell_type": "code",
   "execution_count": null,
   "id": "d90271d0",
   "metadata": {},
   "outputs": [],
   "source": []
  },
  {
   "cell_type": "code",
   "execution_count": null,
   "id": "40224064",
   "metadata": {},
   "outputs": [],
   "source": []
  },
  {
   "cell_type": "code",
   "execution_count": null,
   "id": "157a3a17",
   "metadata": {},
   "outputs": [],
   "source": []
  },
  {
   "cell_type": "code",
   "execution_count": null,
   "id": "33dc87ab",
   "metadata": {},
   "outputs": [],
   "source": []
  },
  {
   "cell_type": "code",
   "execution_count": null,
   "id": "36b3992e",
   "metadata": {},
   "outputs": [],
   "source": []
  },
  {
   "cell_type": "code",
   "execution_count": null,
   "id": "830bdaee",
   "metadata": {},
   "outputs": [],
   "source": []
  },
  {
   "cell_type": "code",
   "execution_count": null,
   "id": "f87a1d55",
   "metadata": {},
   "outputs": [],
   "source": []
  },
  {
   "cell_type": "code",
   "execution_count": null,
   "id": "7f39656f",
   "metadata": {},
   "outputs": [],
   "source": []
  }
 ],
 "metadata": {
  "kernelspec": {
   "display_name": "Python 3",
   "language": "python",
   "name": "python3"
  },
  "language_info": {
   "codemirror_mode": {
    "name": "ipython",
    "version": 3
   },
   "file_extension": ".py",
   "mimetype": "text/x-python",
   "name": "python",
   "nbconvert_exporter": "python",
   "pygments_lexer": "ipython3",
   "version": "3.8.8"
  }
 },
 "nbformat": 4,
 "nbformat_minor": 5
}
